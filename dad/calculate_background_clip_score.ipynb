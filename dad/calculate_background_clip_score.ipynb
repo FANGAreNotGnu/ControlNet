{
 "cells": [
  {
   "cell_type": "code",
   "execution_count": 1,
   "id": "03107c0f",
   "metadata": {},
   "outputs": [],
   "source": [
    "import os\n",
    "os.environ[\"CUDA_VISIBLE_DEVICES\"]=\"2\""
   ]
  },
  {
   "cell_type": "code",
   "execution_count": 2,
   "id": "17e7ce55",
   "metadata": {},
   "outputs": [
    {
     "name": "stderr",
     "output_type": "stream",
     "text": [
      "/opt/conda/lib/python3.9/site-packages/torchvision/io/image.py:13: UserWarning: Failed to load image Python extension: libtorch_cuda_cu.so: cannot open shared object file: No such file or directory\n",
      "  warn(f\"Failed to load image Python extension: {e}\")\n"
     ]
    }
   ],
   "source": [
    "import glob\n",
    "import json\n",
    "import numpy as np\n",
    "import os\n",
    "import shutil\n",
    "\n",
    "\n",
    "import torch\n",
    "from tqdm import tqdm\n",
    "from pycocotools.coco import COCO  # https://github.com/cocodataset/cocoapi/blob/master/PythonAPI/pycocoDemo.ipynb\n",
    "import clip\n",
    "\n",
    "from vis_prior.utils import *"
   ]
  },
  {
   "cell_type": "code",
   "execution_count": 3,
   "id": "c7bbbbee",
   "metadata": {},
   "outputs": [],
   "source": [
    "unfiltered_data_folder = \"/media/data/dad/cnet/experiments/coco10novel/mix_n2000_o1_s1_p640_pfa_csl30\"\n",
    "unfiltered_annotation_path = os.path.join(unfiltered_data_folder, \"annotation.json\")"
   ]
  },
  {
   "cell_type": "code",
   "execution_count": 4,
   "id": "d680abbe",
   "metadata": {},
   "outputs": [
    {
     "name": "stdout",
     "output_type": "stream",
     "text": [
      "loading annotations into memory...\n",
      "Done (t=0.01s)\n",
      "creating index...\n",
      "index created!\n"
     ]
    }
   ],
   "source": [
    "with open(unfiltered_annotation_path, \"r\") as f:\n",
    "    unfiltered_annotation = json.load(f)\n",
    "coco = COCO(unfiltered_annotation_path)"
   ]
  },
  {
   "cell_type": "code",
   "execution_count": 5,
   "id": "a0bb5cf3",
   "metadata": {},
   "outputs": [],
   "source": [
    "device = \"cuda\"\n",
    "model, preprocess = clip.load(\"ViT-L/14\", device=device)"
   ]
  },
  {
   "cell_type": "code",
   "execution_count": 6,
   "id": "6c7b42e1",
   "metadata": {},
   "outputs": [],
   "source": [
    "prompts = [cat['name'] for cat in unfiltered_annotation['categories']]"
   ]
  },
  {
   "cell_type": "code",
   "execution_count": 7,
   "id": "e82d4ecd",
   "metadata": {},
   "outputs": [
    {
     "data": {
      "text/plain": [
       "['person',\n",
       " 'bicycle',\n",
       " 'car',\n",
       " 'motorcycle',\n",
       " 'airplane',\n",
       " 'bus',\n",
       " 'train',\n",
       " 'boat',\n",
       " 'bird',\n",
       " 'cat',\n",
       " 'dog',\n",
       " 'horse',\n",
       " 'sheep',\n",
       " 'cow',\n",
       " 'bottle',\n",
       " 'chair',\n",
       " 'couch',\n",
       " 'potted plant',\n",
       " 'dining table',\n",
       " 'tv']"
      ]
     },
     "execution_count": 7,
     "metadata": {},
     "output_type": "execute_result"
    }
   ],
   "source": [
    "prompts"
   ]
  },
  {
   "cell_type": "code",
   "execution_count": 8,
   "id": "bd4f435c",
   "metadata": {},
   "outputs": [
    {
     "name": "stderr",
     "output_type": "stream",
     "text": [
      "100%|█████████████████████████████████████████████████████████████████████████| 729/729 [00:45<00:00, 16.05it/s]\n"
     ]
    }
   ],
   "source": [
    "from PIL import Image, ImageDraw\n",
    "for img_obj in tqdm(unfiltered_annotation['images']):\n",
    "    image_id = img_obj[\"id\"]\n",
    "    img_path = os.path.join(unfiltered_data_folder, 'images', img_obj['file_name'])\n",
    "    img = Image.open(img_path)\n",
    "    \n",
    "    ann_ids = coco.getAnnIds(imgIds=image_id)\n",
    "    imgdraw = ImageDraw.Draw(img)  \n",
    "    cat_ids = set()\n",
    "    for ann_id in ann_ids:\n",
    "        ann = coco.loadAnns([ann_id])[0]\n",
    "        x, y, w, h = ann['bbox']\n",
    "        imgdraw.rectangle((x, y, x+w, y+h), fill=\"black\")\n",
    "        cat_ids.add(ann['category_id'])\n",
    "    \n",
    "    \n",
    "    cat_objs = coco.loadCats(cat_ids)\n",
    "    #cat_name = cat_obj[\"name\"]\n",
    "    cat_names = [cat_obj[\"name\"] for cat_obj in cat_objs] # only detect for categories assigned\n",
    "    \n",
    "    image = preprocess(img).unsqueeze(0).to(device)\n",
    "    text = clip.tokenize(cat_names).to(device)\n",
    "    \n",
    "    #import matplotlib.pyplot as plt\n",
    "    #plt.imshow(img)\n",
    "    #print([cat_name, \"a \" + cat_name, \"picture of a \" + cat_name])\n",
    "    \n",
    "    with torch.no_grad():\n",
    "        image_features = model.encode_image(image)\n",
    "        text_features = model.encode_text(text)\n",
    "\n",
    "        logits_per_image, logits_per_text = model(image, text)\n",
    "        \n",
    "    #print(cat_prompts)\n",
    "    #print(logits_per_image)\n",
    "    \n",
    "    for i, cat_name in enumerate(cat_names):\n",
    "        img_obj[\"csl_%s\"%cat_name] = float(logits_per_image[0][i]) # CLIP Similarity Score VIT-L14 (csl)    \n",
    "    #ann[\"csl_a\"] = float(probs[1]) # a: \"a xxxx\"    \n",
    "    #ann[\"csl_p\"] = float(probs[2]) # p: \"a picture of xxx\""
   ]
  },
  {
   "cell_type": "code",
   "execution_count": 9,
   "id": "7be5ad74",
   "metadata": {},
   "outputs": [
    {
     "name": "stdout",
     "output_type": "stream",
     "text": [
      "729\n",
      "{'file_name': '000000570335.jpg', 'height': 640, 'width': 640, 'id': 570335, 'prompt': 'cat', 'csl_cat': 20.890625}\n",
      "{'file_name': '000000570341.jpg', 'height': 640, 'width': 640, 'id': 570341, 'prompt': 'motorcycle', 'csl_motorcycle': 11.71875}\n",
      "{'file_name': '000000570343.jpg', 'height': 640, 'width': 640, 'id': 570343, 'prompt': 'train', 'csl_train': 20.734375}\n",
      "{'file_name': '000000570345.jpg', 'height': 640, 'width': 640, 'id': 570345, 'prompt': 'airplane', 'csl_airplane': 19.046875}\n"
     ]
    }
   ],
   "source": [
    "print(len(unfiltered_annotation['images']))\n",
    "print(unfiltered_annotation['images'][222])\n",
    "print(unfiltered_annotation['images'][223])\n",
    "print(unfiltered_annotation['images'][224])\n",
    "print(unfiltered_annotation['images'][225])"
   ]
  },
  {
   "cell_type": "code",
   "execution_count": 10,
   "id": "44aa1204",
   "metadata": {},
   "outputs": [],
   "source": [
    "with open(unfiltered_annotation_path, \"w+\") as f:\n",
    "    json.dump(unfiltered_annotation, f)"
   ]
  },
  {
   "cell_type": "code",
   "execution_count": null,
   "id": "2d677675",
   "metadata": {},
   "outputs": [],
   "source": []
  }
 ],
 "metadata": {
  "kernelspec": {
   "display_name": "control",
   "language": "python",
   "name": "control"
  },
  "language_info": {
   "codemirror_mode": {
    "name": "ipython",
    "version": 3
   },
   "file_extension": ".py",
   "mimetype": "text/x-python",
   "name": "python",
   "nbconvert_exporter": "python",
   "pygments_lexer": "ipython3",
   "version": "3.9.16"
  }
 },
 "nbformat": 4,
 "nbformat_minor": 5
}
