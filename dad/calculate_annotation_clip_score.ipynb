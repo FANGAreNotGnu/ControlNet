{
 "cells": [
  {
   "cell_type": "code",
   "execution_count": 1,
   "id": "06806bfc",
   "metadata": {},
   "outputs": [],
   "source": [
    "import os\n",
    "os.environ[\"CUDA_VISIBLE_DEVICES\"]=\"2\""
   ]
  },
  {
   "cell_type": "code",
   "execution_count": 2,
   "id": "1356ec52",
   "metadata": {},
   "outputs": [
    {
     "name": "stderr",
     "output_type": "stream",
     "text": [
      "/opt/conda/lib/python3.9/site-packages/torchvision/io/image.py:13: UserWarning: Failed to load image Python extension: libtorch_cuda_cu.so: cannot open shared object file: No such file or directory\n",
      "  warn(f\"Failed to load image Python extension: {e}\")\n"
     ]
    }
   ],
   "source": [
    "import glob\n",
    "import json\n",
    "import numpy as np\n",
    "import os\n",
    "import shutil\n",
    "\n",
    "\n",
    "import torch\n",
    "from tqdm import tqdm\n",
    "from pycocotools.coco import COCO  # https://github.com/cocodataset/cocoapi/blob/master/PythonAPI/pycocoDemo.ipynb\n",
    "import clip\n",
    "\n",
    "from vis_prior.utils import *"
   ]
  },
  {
   "cell_type": "code",
   "execution_count": 3,
   "id": "c3d65b87",
   "metadata": {},
   "outputs": [],
   "source": [
    "unfiltered_data_folder = \"/media/data/dad/cnet/experiments/coco10novel/mix_n2000_o1_s1_p640_promptenhanced\"\n",
    "unfiltered_annotation_path = os.path.join(unfiltered_data_folder, \"annotation.json\")"
   ]
  },
  {
   "cell_type": "code",
   "execution_count": 4,
   "id": "3fb169ad",
   "metadata": {},
   "outputs": [
    {
     "name": "stdout",
     "output_type": "stream",
     "text": [
      "loading annotations into memory...\n",
      "Done (t=0.08s)\n",
      "creating index...\n",
      "index created!\n"
     ]
    }
   ],
   "source": [
    "with open(unfiltered_annotation_path, \"r\") as f:\n",
    "    unfiltered_annotation = json.load(f)\n",
    "coco = COCO(unfiltered_annotation_path)"
   ]
  },
  {
   "cell_type": "code",
   "execution_count": 5,
   "id": "0b5157ec",
   "metadata": {},
   "outputs": [],
   "source": []
  },
  {
   "cell_type": "code",
   "execution_count": 6,
   "id": "84056e6c",
   "metadata": {},
   "outputs": [],
   "source": [
    "device = \"cuda\"\n",
    "model, preprocess = clip.load(\"ViT-L/14\", device=device)"
   ]
  },
  {
   "cell_type": "code",
   "execution_count": 7,
   "id": "4d10df45",
   "metadata": {},
   "outputs": [
    {
     "name": "stderr",
     "output_type": "stream",
     "text": [
      "100%|████████████████████████████████████████████████████████████████████████████████████████████████████████████████████████████████████████████████████████████| 2200/2200 [01:49<00:00, 20.13it/s]\n"
     ]
    }
   ],
   "source": [
    "from PIL import Image\n",
    "for ann in tqdm(unfiltered_annotation['annotations']):\n",
    "    ann_id = ann[\"id\"]\n",
    "    x, y, w, h = ann['bbox']\n",
    "    \n",
    "    image_id = ann['image_id']\n",
    "    img_obj = coco.loadImgs([image_id])[0]\n",
    "    img_path = os.path.join(unfiltered_data_folder, 'images', img_obj['file_name'])\n",
    "    img = Image.open(img_path)\n",
    "    img = img.crop((x, y, x+w, y+h))\n",
    "    #img = imread(img_path)\n",
    "    \n",
    "    cat_id = ann['category_id']\n",
    "    cat_obj = coco.loadCats([cat_id])[0]\n",
    "    cat_name = cat_obj[\"name\"]\n",
    "    \n",
    "    image = preprocess(img).unsqueeze(0).to(device)\n",
    "    text = clip.tokenize([cat_name, \"a \" + cat_name, \"picture of a \" + cat_name]).to(device)\n",
    "    \n",
    "    #import matplotlib.pyplot as plt\n",
    "    #plt.imshow(img)\n",
    "    #print([cat_name, \"a \" + cat_name, \"picture of a \" + cat_name])\n",
    "    \n",
    "    with torch.no_grad():\n",
    "        image_features = model.encode_image(image)\n",
    "        text_features = model.encode_text(text)\n",
    "        \n",
    "        #image_features /= image_features.norm(dim=-1, keepdim=True)\n",
    "        #text_features /= text_features.norm(dim=-1, keepdim=True)\n",
    "        #similarity = (100.0 * image_features @ text_features.T)\n",
    "\n",
    "        logits_per_image, logits_per_text = model(image, text)\n",
    "        #probs = logits_per_image.softmax(dim=-1).cpu().numpy()[0]\n",
    "    \n",
    "    #print(logits_per_image)\n",
    "    #print(logits_per_image)\n",
    "    #print(logits_per_text)\n",
    "    #print(probs)\n",
    "    \n",
    "    ann[\"csl\"] = float(logits_per_image[0][0]/100) # CLIP Similarity Score VIT-L14 (csl)    \n",
    "    ann[\"csl_a\"] = float(logits_per_image[0][1]/100) # a: \"a xxxx\"    \n",
    "    ann[\"csl_p\"] = float(logits_per_image[0][2]/100) # p: \"a picture of xxx\""
   ]
  },
  {
   "cell_type": "code",
   "execution_count": 8,
   "id": "1b717810",
   "metadata": {},
   "outputs": [
    {
     "name": "stdout",
     "output_type": "stream",
     "text": [
      "2200\n",
      "{'image_id': 570016, 'bbox': [9, 147, 103, 77], 'area': 7931.0, 'category_id': 9, 'id': 2223022, 'csl': 0.2283935546875, 'csl_a': 0.224365234375, 'csl_p': 0.2259521484375}\n"
     ]
    }
   ],
   "source": [
    "print(len(unfiltered_annotation['annotations']))\n",
    "print(unfiltered_annotation['annotations'][200])"
   ]
  },
  {
   "cell_type": "code",
   "execution_count": 9,
   "id": "eea12b51",
   "metadata": {},
   "outputs": [],
   "source": [
    "with open(unfiltered_annotation_path, \"w+\") as f:\n",
    "    json.dump(unfiltered_annotation, f)"
   ]
  }
 ],
 "metadata": {
  "kernelspec": {
   "display_name": "control",
   "language": "python",
   "name": "control"
  },
  "language_info": {
   "codemirror_mode": {
    "name": "ipython",
    "version": 3
   },
   "file_extension": ".py",
   "mimetype": "text/x-python",
   "name": "python",
   "nbconvert_exporter": "python",
   "pygments_lexer": "ipython3",
   "version": "3.9.16"
  }
 },
 "nbformat": 4,
 "nbformat_minor": 5
}
