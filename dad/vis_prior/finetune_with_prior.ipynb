{
 "cells": [
  {
   "cell_type": "code",
   "execution_count": 1,
   "id": "f5dc92d1",
   "metadata": {},
   "outputs": [],
   "source": [
    "#!pip install xformers"
   ]
  },
  {
   "cell_type": "code",
   "execution_count": 2,
   "id": "895af7e8",
   "metadata": {},
   "outputs": [],
   "source": [
    "from vis_prior_dataset import VisPriorDataset"
   ]
  },
  {
   "cell_type": "code",
   "execution_count": 3,
   "id": "94f43119",
   "metadata": {},
   "outputs": [],
   "source": [
    "annotation_path = \"/home/ubuntu/dad/roboflow-100-benchmark/rf100/apples-fvpl5/train_aug_bboxhed.json\""
   ]
  },
  {
   "cell_type": "code",
   "execution_count": 4,
   "id": "b98bff1c",
   "metadata": {},
   "outputs": [
    {
     "name": "stdout",
     "output_type": "stream",
     "text": [
      "489\n",
      "apples\n",
      "(640, 640, 3)\n",
      "(640, 640, 3)\n"
     ]
    }
   ],
   "source": [
    "# test\n",
    "\n",
    "dataset = VisPriorDataset(annotation_file=annotation_path)\n",
    "print(len(dataset))\n",
    "\n",
    "item = dataset[12]\n",
    "jpg = item['jpg']\n",
    "txt = item['txt']\n",
    "hint = item['hint']\n",
    "print(txt)\n",
    "print(jpg.shape)\n",
    "print(hint.shape)"
   ]
  },
  {
   "cell_type": "code",
   "execution_count": 5,
   "id": "4b1f97e7",
   "metadata": {},
   "outputs": [
    {
     "name": "stderr",
     "output_type": "stream",
     "text": [
      "/opt/conda/lib/python3.9/site-packages/torchvision/io/image.py:13: UserWarning: Failed to load image Python extension: libtorch_cuda_cu.so: cannot open shared object file: No such file or directory\n",
      "  warn(f\"Failed to load image Python extension: {e}\")\n"
     ]
    }
   ],
   "source": [
    "import pytorch_lightning as pl\n",
    "from torch.utils.data import DataLoader\n",
    "import sys\n",
    "sys.path.append(\"/home/ubuntu/dad/ControlNet\")\n",
    "from cldm.logger import ImageLogger\n",
    "from cldm.model import create_model, load_state_dict\n",
    "\n",
    "\n",
    "# Configs\n",
    "model_config = '../../models/cldm_v15.yaml'\n",
    "resume_path = '../../models/control_sd15_hed.pth'\n",
    "batch_size = 1\n",
    "logger_freq = 300\n",
    "learning_rate = 1e-6\n",
    "sd_locked = True\n",
    "only_mid_control = False\n",
    "\n",
    "#pl\n"
   ]
  },
  {
   "cell_type": "code",
   "execution_count": 6,
   "id": "990521ab",
   "metadata": {},
   "outputs": [
    {
     "name": "stdout",
     "output_type": "stream",
     "text": [
      "ControlLDM: Running in eps-prediction mode\n",
      "Setting up MemoryEfficientCrossAttention. Query dim is 320, context_dim is None and using 8 heads.\n",
      "Setting up MemoryEfficientCrossAttention. Query dim is 320, context_dim is 768 and using 8 heads.\n",
      "Setting up MemoryEfficientCrossAttention. Query dim is 320, context_dim is None and using 8 heads.\n",
      "Setting up MemoryEfficientCrossAttention. Query dim is 320, context_dim is 768 and using 8 heads.\n",
      "Setting up MemoryEfficientCrossAttention. Query dim is 640, context_dim is None and using 8 heads.\n",
      "Setting up MemoryEfficientCrossAttention. Query dim is 640, context_dim is 768 and using 8 heads.\n",
      "Setting up MemoryEfficientCrossAttention. Query dim is 640, context_dim is None and using 8 heads.\n",
      "Setting up MemoryEfficientCrossAttention. Query dim is 640, context_dim is 768 and using 8 heads.\n",
      "Setting up MemoryEfficientCrossAttention. Query dim is 1280, context_dim is None and using 8 heads.\n",
      "Setting up MemoryEfficientCrossAttention. Query dim is 1280, context_dim is 768 and using 8 heads.\n",
      "Setting up MemoryEfficientCrossAttention. Query dim is 1280, context_dim is None and using 8 heads.\n",
      "Setting up MemoryEfficientCrossAttention. Query dim is 1280, context_dim is 768 and using 8 heads.\n",
      "Setting up MemoryEfficientCrossAttention. Query dim is 1280, context_dim is None and using 8 heads.\n",
      "Setting up MemoryEfficientCrossAttention. Query dim is 1280, context_dim is 768 and using 8 heads.\n",
      "Setting up MemoryEfficientCrossAttention. Query dim is 1280, context_dim is None and using 8 heads.\n",
      "Setting up MemoryEfficientCrossAttention. Query dim is 1280, context_dim is 768 and using 8 heads.\n",
      "Setting up MemoryEfficientCrossAttention. Query dim is 1280, context_dim is None and using 8 heads.\n",
      "Setting up MemoryEfficientCrossAttention. Query dim is 1280, context_dim is 768 and using 8 heads.\n",
      "Setting up MemoryEfficientCrossAttention. Query dim is 1280, context_dim is None and using 8 heads.\n",
      "Setting up MemoryEfficientCrossAttention. Query dim is 1280, context_dim is 768 and using 8 heads.\n",
      "Setting up MemoryEfficientCrossAttention. Query dim is 640, context_dim is None and using 8 heads.\n",
      "Setting up MemoryEfficientCrossAttention. Query dim is 640, context_dim is 768 and using 8 heads.\n",
      "Setting up MemoryEfficientCrossAttention. Query dim is 640, context_dim is None and using 8 heads.\n",
      "Setting up MemoryEfficientCrossAttention. Query dim is 640, context_dim is 768 and using 8 heads.\n",
      "Setting up MemoryEfficientCrossAttention. Query dim is 640, context_dim is None and using 8 heads.\n",
      "Setting up MemoryEfficientCrossAttention. Query dim is 640, context_dim is 768 and using 8 heads.\n",
      "Setting up MemoryEfficientCrossAttention. Query dim is 320, context_dim is None and using 8 heads.\n",
      "Setting up MemoryEfficientCrossAttention. Query dim is 320, context_dim is 768 and using 8 heads.\n",
      "Setting up MemoryEfficientCrossAttention. Query dim is 320, context_dim is None and using 8 heads.\n",
      "Setting up MemoryEfficientCrossAttention. Query dim is 320, context_dim is 768 and using 8 heads.\n",
      "Setting up MemoryEfficientCrossAttention. Query dim is 320, context_dim is None and using 8 heads.\n",
      "Setting up MemoryEfficientCrossAttention. Query dim is 320, context_dim is 768 and using 8 heads.\n",
      "DiffusionWrapper has 859.52 M params.\n",
      "making attention of type 'vanilla-xformers' with 512 in_channels\n",
      "building MemoryEfficientAttnBlock with 512 in_channels...\n",
      "Working with z of shape (1, 4, 32, 32) = 4096 dimensions.\n",
      "making attention of type 'vanilla-xformers' with 512 in_channels\n",
      "building MemoryEfficientAttnBlock with 512 in_channels...\n"
     ]
    },
    {
     "name": "stderr",
     "output_type": "stream",
     "text": [
      "Some weights of the model checkpoint at openai/clip-vit-large-patch14 were not used when initializing CLIPTextModel: ['vision_model.encoder.layers.8.layer_norm1.weight', 'vision_model.encoder.layers.5.layer_norm2.bias', 'vision_model.encoder.layers.0.mlp.fc1.weight', 'vision_model.encoder.layers.6.layer_norm1.weight', 'vision_model.encoder.layers.1.mlp.fc2.bias', 'vision_model.encoder.layers.19.self_attn.out_proj.bias', 'vision_model.encoder.layers.3.mlp.fc2.bias', 'vision_model.encoder.layers.20.layer_norm2.bias', 'vision_model.encoder.layers.7.self_attn.out_proj.weight', 'vision_model.encoder.layers.7.layer_norm2.bias', 'vision_model.encoder.layers.17.self_attn.out_proj.weight', 'visual_projection.weight', 'vision_model.encoder.layers.23.layer_norm2.bias', 'vision_model.encoder.layers.18.layer_norm1.weight', 'vision_model.encoder.layers.11.mlp.fc1.bias', 'vision_model.encoder.layers.14.layer_norm2.weight', 'vision_model.encoder.layers.6.mlp.fc1.weight', 'vision_model.encoder.layers.6.self_attn.v_proj.bias', 'vision_model.encoder.layers.17.mlp.fc2.weight', 'vision_model.encoder.layers.16.layer_norm2.bias', 'vision_model.encoder.layers.11.self_attn.k_proj.bias', 'vision_model.encoder.layers.16.mlp.fc2.weight', 'vision_model.encoder.layers.20.self_attn.v_proj.weight', 'vision_model.encoder.layers.17.self_attn.v_proj.bias', 'vision_model.encoder.layers.21.self_attn.out_proj.weight', 'vision_model.encoder.layers.7.self_attn.v_proj.bias', 'vision_model.encoder.layers.15.self_attn.k_proj.weight', 'vision_model.encoder.layers.1.self_attn.out_proj.weight', 'vision_model.encoder.layers.22.self_attn.v_proj.weight', 'vision_model.encoder.layers.6.self_attn.q_proj.weight', 'vision_model.encoder.layers.11.layer_norm1.weight', 'vision_model.encoder.layers.19.mlp.fc2.weight', 'vision_model.encoder.layers.0.mlp.fc2.bias', 'vision_model.encoder.layers.8.mlp.fc1.weight', 'vision_model.encoder.layers.15.layer_norm2.weight', 'vision_model.encoder.layers.3.layer_norm1.bias', 'vision_model.encoder.layers.15.self_attn.q_proj.weight', 'vision_model.encoder.layers.8.self_attn.q_proj.weight', 'vision_model.encoder.layers.16.self_attn.k_proj.weight', 'vision_model.encoder.layers.4.self_attn.out_proj.bias', 'vision_model.encoder.layers.1.self_attn.v_proj.bias', 'vision_model.encoder.layers.16.layer_norm1.bias', 'vision_model.encoder.layers.20.layer_norm2.weight', 'vision_model.encoder.layers.21.layer_norm2.bias', 'vision_model.encoder.layers.5.mlp.fc1.weight', 'vision_model.encoder.layers.6.self_attn.out_proj.bias', 'vision_model.encoder.layers.12.mlp.fc1.bias', 'vision_model.encoder.layers.16.mlp.fc1.bias', 'vision_model.encoder.layers.18.layer_norm2.weight', 'vision_model.encoder.layers.1.layer_norm1.bias', 'vision_model.encoder.layers.7.self_attn.q_proj.weight', 'vision_model.encoder.layers.4.self_attn.q_proj.weight', 'vision_model.encoder.layers.2.self_attn.v_proj.weight', 'vision_model.encoder.layers.8.mlp.fc2.weight', 'vision_model.encoder.layers.8.self_attn.v_proj.weight', 'vision_model.encoder.layers.6.self_attn.k_proj.bias', 'vision_model.encoder.layers.17.self_attn.out_proj.bias', 'vision_model.encoder.layers.9.self_attn.out_proj.bias', 'vision_model.encoder.layers.21.self_attn.v_proj.weight', 'vision_model.encoder.layers.20.layer_norm1.weight', 'vision_model.encoder.layers.11.layer_norm1.bias', 'vision_model.encoder.layers.22.self_attn.k_proj.weight', 'vision_model.encoder.layers.5.layer_norm1.weight', 'vision_model.encoder.layers.0.self_attn.q_proj.weight', 'vision_model.encoder.layers.6.layer_norm2.weight', 'vision_model.encoder.layers.18.self_attn.v_proj.weight', 'vision_model.encoder.layers.12.mlp.fc2.weight', 'vision_model.encoder.layers.17.mlp.fc1.weight', 'vision_model.encoder.layers.13.mlp.fc1.weight', 'vision_model.encoder.layers.16.self_attn.v_proj.bias', 'vision_model.encoder.layers.1.mlp.fc1.weight', 'vision_model.encoder.layers.17.self_attn.k_proj.bias', 'vision_model.encoder.layers.15.self_attn.q_proj.bias', 'vision_model.encoder.layers.14.mlp.fc2.bias', 'vision_model.encoder.layers.10.mlp.fc1.bias', 'vision_model.encoder.layers.14.layer_norm2.bias', 'vision_model.encoder.layers.1.mlp.fc2.weight', 'vision_model.encoder.layers.4.self_attn.k_proj.bias', 'vision_model.encoder.layers.4.layer_norm1.bias', 'vision_model.encoder.layers.21.self_attn.k_proj.weight', 'vision_model.encoder.layers.22.layer_norm1.bias', 'vision_model.encoder.layers.4.self_attn.v_proj.bias', 'vision_model.encoder.layers.8.layer_norm1.bias', 'vision_model.encoder.layers.20.mlp.fc1.weight', 'vision_model.encoder.layers.15.self_attn.k_proj.bias', 'vision_model.encoder.layers.2.mlp.fc1.bias', 'vision_model.encoder.layers.20.self_attn.v_proj.bias', 'vision_model.encoder.layers.2.self_attn.q_proj.weight', 'vision_model.encoder.layers.10.self_attn.k_proj.bias', 'vision_model.encoder.layers.8.self_attn.k_proj.weight', 'vision_model.encoder.layers.1.mlp.fc1.bias', 'vision_model.encoder.layers.6.layer_norm1.bias', 'vision_model.encoder.layers.22.self_attn.q_proj.bias', 'vision_model.encoder.layers.5.mlp.fc1.bias', 'vision_model.encoder.layers.10.self_attn.v_proj.weight', 'vision_model.encoder.layers.1.self_attn.k_proj.weight', 'vision_model.encoder.layers.2.layer_norm2.weight', 'vision_model.encoder.layers.21.layer_norm1.bias', 'vision_model.encoder.layers.4.mlp.fc2.bias', 'vision_model.encoder.layers.0.self_attn.k_proj.bias', 'vision_model.encoder.layers.19.self_attn.out_proj.weight', 'vision_model.encoder.layers.13.layer_norm1.weight', 'vision_model.encoder.layers.4.layer_norm2.bias', 'vision_model.encoder.layers.20.layer_norm1.bias', 'vision_model.encoder.layers.22.self_attn.out_proj.bias', 'vision_model.encoder.layers.6.self_attn.v_proj.weight', 'vision_model.embeddings.patch_embedding.weight', 'vision_model.encoder.layers.1.self_attn.q_proj.weight', 'vision_model.encoder.layers.5.layer_norm2.weight', 'vision_model.encoder.layers.21.self_attn.q_proj.bias', 'vision_model.encoder.layers.0.mlp.fc2.weight', 'vision_model.encoder.layers.6.self_attn.k_proj.weight', 'vision_model.encoder.layers.23.self_attn.k_proj.bias', 'vision_model.encoder.layers.17.self_attn.v_proj.weight', 'vision_model.encoder.layers.14.mlp.fc1.bias', 'vision_model.encoder.layers.23.self_attn.k_proj.weight', 'vision_model.encoder.layers.15.self_attn.v_proj.weight', 'vision_model.encoder.layers.12.self_attn.q_proj.weight', 'vision_model.encoder.layers.7.mlp.fc1.weight', 'vision_model.encoder.layers.12.self_attn.out_proj.bias', 'vision_model.encoder.layers.6.self_attn.q_proj.bias', 'vision_model.encoder.layers.10.self_attn.v_proj.bias', 'vision_model.encoder.layers.10.mlp.fc1.weight', 'vision_model.encoder.layers.6.mlp.fc1.bias', 'vision_model.encoder.layers.8.self_attn.out_proj.bias', 'vision_model.encoder.layers.5.self_attn.out_proj.weight', 'vision_model.encoder.layers.15.layer_norm1.weight', 'vision_model.encoder.layers.8.layer_norm2.weight', 'vision_model.encoder.layers.21.layer_norm1.weight', 'vision_model.encoder.layers.19.mlp.fc1.bias', 'vision_model.encoder.layers.10.self_attn.out_proj.weight', 'vision_model.encoder.layers.15.layer_norm1.bias', 'vision_model.encoder.layers.13.self_attn.q_proj.weight', 'vision_model.encoder.layers.13.mlp.fc2.weight', 'vision_model.encoder.layers.16.self_attn.k_proj.bias', 'vision_model.encoder.layers.14.layer_norm1.weight', 'vision_model.encoder.layers.16.self_attn.q_proj.weight', 'vision_model.encoder.layers.11.layer_norm2.bias', 'vision_model.encoder.layers.0.self_attn.v_proj.weight', 'vision_model.encoder.layers.22.self_attn.v_proj.bias', 'vision_model.encoder.layers.13.self_attn.v_proj.bias', 'vision_model.encoder.layers.19.self_attn.q_proj.bias', 'vision_model.encoder.layers.17.self_attn.q_proj.bias', 'vision_model.encoder.layers.19.self_attn.k_proj.weight', 'vision_model.encoder.layers.11.self_attn.v_proj.weight', 'vision_model.encoder.layers.18.mlp.fc1.weight', 'vision_model.encoder.layers.19.layer_norm1.weight', 'vision_model.encoder.layers.20.self_attn.out_proj.weight', 'vision_model.encoder.layers.1.self_attn.v_proj.weight', 'vision_model.encoder.layers.2.layer_norm1.bias', 'vision_model.encoder.layers.10.mlp.fc2.weight', 'vision_model.encoder.layers.12.self_attn.v_proj.bias', 'vision_model.encoder.layers.21.mlp.fc1.bias', 'vision_model.encoder.layers.2.self_attn.q_proj.bias', 'vision_model.encoder.layers.14.self_attn.v_proj.weight', 'vision_model.encoder.layers.9.self_attn.v_proj.weight', 'vision_model.encoder.layers.12.layer_norm1.bias', 'vision_model.encoder.layers.1.layer_norm2.weight', 'vision_model.encoder.layers.9.layer_norm2.bias', 'vision_model.encoder.layers.8.layer_norm2.bias', 'vision_model.encoder.layers.23.layer_norm1.weight', 'vision_model.encoder.layers.20.self_attn.q_proj.bias', 'vision_model.encoder.layers.11.mlp.fc1.weight', 'vision_model.encoder.layers.3.layer_norm2.weight', 'vision_model.encoder.layers.18.layer_norm2.bias', 'vision_model.encoder.layers.3.mlp.fc1.weight', 'logit_scale', 'vision_model.encoder.layers.2.mlp.fc2.bias', 'vision_model.encoder.layers.23.mlp.fc1.bias', 'vision_model.encoder.layers.13.layer_norm1.bias', 'vision_model.encoder.layers.13.mlp.fc2.bias', 'vision_model.encoder.layers.19.layer_norm2.weight', 'vision_model.encoder.layers.9.self_attn.out_proj.weight', 'vision_model.encoder.layers.15.mlp.fc2.weight', 'vision_model.encoder.layers.13.self_attn.q_proj.bias', 'vision_model.encoder.layers.21.self_attn.out_proj.bias', 'vision_model.encoder.layers.17.layer_norm1.bias', 'vision_model.post_layernorm.weight', 'vision_model.encoder.layers.9.layer_norm2.weight', 'vision_model.encoder.layers.22.layer_norm2.bias', 'vision_model.encoder.layers.19.layer_norm2.bias', 'vision_model.encoder.layers.5.self_attn.v_proj.weight', 'vision_model.encoder.layers.1.layer_norm1.weight', 'vision_model.encoder.layers.9.mlp.fc1.weight', 'vision_model.encoder.layers.6.mlp.fc2.weight', 'vision_model.encoder.layers.2.layer_norm1.weight', 'vision_model.encoder.layers.4.self_attn.k_proj.weight', 'vision_model.encoder.layers.23.mlp.fc1.weight', 'vision_model.encoder.layers.5.layer_norm1.bias', 'vision_model.encoder.layers.14.self_attn.k_proj.weight', 'vision_model.encoder.layers.2.self_attn.v_proj.bias', 'vision_model.encoder.layers.22.mlp.fc1.weight', 'vision_model.encoder.layers.20.mlp.fc2.weight', 'vision_model.encoder.layers.14.mlp.fc1.weight', 'vision_model.encoder.layers.22.layer_norm2.weight', 'vision_model.encoder.layers.23.layer_norm1.bias', 'vision_model.encoder.layers.9.layer_norm1.bias', 'vision_model.encoder.layers.23.self_attn.q_proj.weight', 'vision_model.encoder.layers.19.mlp.fc2.bias', 'vision_model.encoder.layers.0.layer_norm2.bias', 'vision_model.encoder.layers.15.self_attn.out_proj.bias', 'vision_model.encoder.layers.16.mlp.fc1.weight', 'vision_model.encoder.layers.2.layer_norm2.bias', 'vision_model.encoder.layers.3.self_attn.k_proj.bias', 'vision_model.encoder.layers.18.self_attn.out_proj.bias', 'vision_model.encoder.layers.8.self_attn.out_proj.weight', 'vision_model.encoder.layers.13.self_attn.out_proj.weight', 'vision_model.encoder.layers.23.self_attn.v_proj.bias', 'vision_model.encoder.layers.5.self_attn.k_proj.bias', 'vision_model.encoder.layers.19.self_attn.v_proj.weight', 'vision_model.encoder.layers.0.mlp.fc1.bias', 'vision_model.encoder.layers.6.self_attn.out_proj.weight', 'vision_model.encoder.layers.4.self_attn.out_proj.weight', 'vision_model.encoder.layers.9.mlp.fc1.bias', 'vision_model.encoder.layers.10.layer_norm1.weight', 'vision_model.encoder.layers.0.self_attn.v_proj.bias', 'vision_model.encoder.layers.5.mlp.fc2.bias', 'vision_model.encoder.layers.13.self_attn.v_proj.weight', 'vision_model.encoder.layers.23.self_attn.out_proj.weight', 'vision_model.encoder.layers.3.mlp.fc1.bias', 'vision_model.encoder.layers.11.layer_norm2.weight', 'vision_model.encoder.layers.4.mlp.fc2.weight', 'vision_model.encoder.layers.12.mlp.fc1.weight', 'vision_model.encoder.layers.10.layer_norm1.bias', 'vision_model.encoder.layers.7.layer_norm1.bias', 'vision_model.encoder.layers.9.mlp.fc2.bias', 'vision_model.encoder.layers.4.mlp.fc1.weight', 'vision_model.encoder.layers.14.mlp.fc2.weight', 'vision_model.encoder.layers.7.self_attn.v_proj.weight', 'vision_model.encoder.layers.18.mlp.fc2.weight', 'vision_model.encoder.layers.13.layer_norm2.bias', 'vision_model.encoder.layers.20.mlp.fc2.bias', 'vision_model.encoder.layers.2.mlp.fc2.weight', 'vision_model.encoder.layers.14.self_attn.out_proj.bias', 'vision_model.encoder.layers.22.mlp.fc1.bias', 'vision_model.encoder.layers.3.layer_norm1.weight', 'vision_model.encoder.layers.21.self_attn.k_proj.bias', 'vision_model.encoder.layers.3.self_attn.k_proj.weight', 'vision_model.encoder.layers.11.self_attn.v_proj.bias', 'vision_model.embeddings.position_embedding.weight', 'vision_model.encoder.layers.12.mlp.fc2.bias', 'vision_model.encoder.layers.9.mlp.fc2.weight', 'vision_model.encoder.layers.16.self_attn.q_proj.bias', 'vision_model.encoder.layers.8.self_attn.q_proj.bias', 'vision_model.encoder.layers.1.layer_norm2.bias', 'vision_model.encoder.layers.19.layer_norm1.bias', 'vision_model.encoder.layers.12.self_attn.k_proj.weight', 'vision_model.encoder.layers.0.self_attn.out_proj.weight', 'vision_model.encoder.layers.4.layer_norm1.weight', 'vision_model.encoder.layers.9.self_attn.k_proj.bias', 'vision_model.encoder.layers.7.mlp.fc2.bias', 'vision_model.encoder.layers.9.layer_norm1.weight', 'vision_model.encoder.layers.7.self_attn.out_proj.bias', 'vision_model.encoder.layers.3.self_attn.out_proj.bias', 'vision_model.encoder.layers.7.mlp.fc1.bias', 'vision_model.encoder.layers.10.self_attn.k_proj.weight', 'vision_model.encoder.layers.15.mlp.fc1.bias', 'vision_model.encoder.layers.11.self_attn.q_proj.weight', 'vision_model.encoder.layers.7.self_attn.q_proj.bias', 'vision_model.encoder.layers.5.self_attn.q_proj.bias', 'vision_model.encoder.layers.12.self_attn.k_proj.bias', 'vision_model.encoder.layers.15.mlp.fc2.bias', 'vision_model.encoder.layers.18.self_attn.k_proj.bias', 'vision_model.encoder.layers.18.mlp.fc1.bias', 'vision_model.encoder.layers.6.layer_norm2.bias', 'vision_model.encoder.layers.2.self_attn.out_proj.bias', 'vision_model.encoder.layers.7.layer_norm1.weight', 'vision_model.encoder.layers.8.self_attn.k_proj.bias', 'vision_model.encoder.layers.16.self_attn.out_proj.weight', 'vision_model.encoder.layers.23.layer_norm2.weight', 'vision_model.encoder.layers.7.self_attn.k_proj.weight', 'vision_model.encoder.layers.9.self_attn.q_proj.weight', 'vision_model.encoder.layers.5.self_attn.v_proj.bias', 'vision_model.encoder.layers.18.self_attn.v_proj.bias', 'vision_model.encoder.layers.20.self_attn.out_proj.bias', 'vision_model.encoder.layers.19.self_attn.v_proj.bias', 'vision_model.encoder.layers.2.self_attn.k_proj.bias', 'vision_model.encoder.layers.23.self_attn.out_proj.bias', 'vision_model.encoder.layers.1.self_attn.out_proj.bias', 'vision_model.encoder.layers.11.mlp.fc2.weight', 'vision_model.encoder.layers.12.layer_norm2.bias', 'vision_model.encoder.layers.0.self_attn.out_proj.bias', 'vision_model.encoder.layers.17.self_attn.q_proj.weight', 'vision_model.encoder.layers.19.mlp.fc1.weight', 'vision_model.pre_layrnorm.bias', 'vision_model.encoder.layers.1.self_attn.q_proj.bias', 'vision_model.encoder.layers.15.self_attn.v_proj.bias', 'vision_model.encoder.layers.21.mlp.fc1.weight', 'vision_model.encoder.layers.7.mlp.fc2.weight', 'vision_model.encoder.layers.21.layer_norm2.weight', 'vision_model.encoder.layers.18.mlp.fc2.bias', 'vision_model.encoder.layers.13.self_attn.k_proj.weight', 'vision_model.encoder.layers.19.self_attn.q_proj.weight', 'vision_model.encoder.layers.21.self_attn.q_proj.weight', 'vision_model.encoder.layers.11.self_attn.out_proj.weight', 'vision_model.encoder.layers.5.self_attn.k_proj.weight', 'vision_model.encoder.layers.12.self_attn.q_proj.bias', 'vision_model.encoder.layers.14.self_attn.q_proj.weight', 'vision_model.encoder.layers.23.mlp.fc2.weight', 'vision_model.encoder.layers.10.self_attn.q_proj.bias', 'vision_model.encoder.layers.16.self_attn.out_proj.bias', 'vision_model.encoder.layers.13.layer_norm2.weight', 'vision_model.post_layernorm.bias', 'vision_model.encoder.layers.15.layer_norm2.bias', 'vision_model.encoder.layers.2.mlp.fc1.weight', 'vision_model.encoder.layers.7.layer_norm2.weight', 'vision_model.encoder.layers.2.self_attn.k_proj.weight', 'vision_model.encoder.layers.4.self_attn.v_proj.weight', 'vision_model.encoder.layers.4.layer_norm2.weight', 'vision_model.encoder.layers.19.self_attn.k_proj.bias', 'vision_model.encoder.layers.0.layer_norm1.weight', 'vision_model.encoder.layers.3.self_attn.q_proj.weight', 'vision_model.encoder.layers.10.self_attn.q_proj.weight', 'vision_model.encoder.layers.13.self_attn.k_proj.bias', 'vision_model.encoder.layers.1.self_attn.k_proj.bias', 'vision_model.encoder.layers.23.self_attn.q_proj.bias', 'vision_model.embeddings.class_embedding', 'vision_model.encoder.layers.18.self_attn.q_proj.weight', 'vision_model.encoder.layers.12.self_attn.out_proj.weight', 'vision_model.encoder.layers.10.mlp.fc2.bias', 'vision_model.encoder.layers.17.mlp.fc2.bias', 'vision_model.encoder.layers.15.self_attn.out_proj.weight', 'vision_model.encoder.layers.10.self_attn.out_proj.bias', 'vision_model.encoder.layers.8.self_attn.v_proj.bias', 'vision_model.encoder.layers.0.layer_norm2.weight', 'vision_model.encoder.layers.17.layer_norm2.weight', 'vision_model.encoder.layers.3.self_attn.q_proj.bias', 'vision_model.encoder.layers.5.self_attn.q_proj.weight', 'vision_model.encoder.layers.12.layer_norm2.weight', 'vision_model.encoder.layers.3.self_attn.out_proj.weight', 'vision_model.encoder.layers.14.self_attn.out_proj.weight', 'vision_model.encoder.layers.17.layer_norm1.weight', 'vision_model.encoder.layers.22.self_attn.q_proj.weight', 'vision_model.encoder.layers.3.layer_norm2.bias', 'vision_model.encoder.layers.22.mlp.fc2.bias', 'vision_model.encoder.layers.12.self_attn.v_proj.weight', 'vision_model.encoder.layers.18.self_attn.k_proj.weight', 'vision_model.encoder.layers.21.self_attn.v_proj.bias', 'vision_model.encoder.layers.11.mlp.fc2.bias', 'vision_model.encoder.layers.11.self_attn.out_proj.bias', 'vision_model.encoder.layers.12.layer_norm1.weight', 'vision_model.encoder.layers.11.self_attn.q_proj.bias', 'vision_model.encoder.layers.20.self_attn.k_proj.weight', 'vision_model.encoder.layers.10.layer_norm2.bias', 'vision_model.encoder.layers.14.self_attn.q_proj.bias', 'vision_model.encoder.layers.8.mlp.fc2.bias', 'vision_model.encoder.layers.11.self_attn.k_proj.weight', 'vision_model.encoder.layers.3.self_attn.v_proj.bias', 'vision_model.encoder.layers.22.layer_norm1.weight', 'vision_model.encoder.layers.22.mlp.fc2.weight', 'vision_model.encoder.layers.18.self_attn.out_proj.weight', 'vision_model.encoder.layers.14.self_attn.k_proj.bias', 'vision_model.encoder.layers.9.self_attn.q_proj.bias', 'vision_model.encoder.layers.21.mlp.fc2.bias', 'vision_model.encoder.layers.20.self_attn.k_proj.bias', 'vision_model.encoder.layers.6.mlp.fc2.bias', 'vision_model.pre_layrnorm.weight', 'vision_model.encoder.layers.2.self_attn.out_proj.weight', 'vision_model.encoder.layers.3.mlp.fc2.weight', 'vision_model.encoder.layers.0.layer_norm1.bias', 'vision_model.encoder.layers.0.self_attn.k_proj.weight', 'vision_model.encoder.layers.20.mlp.fc1.bias', 'vision_model.encoder.layers.16.layer_norm1.weight', 'vision_model.encoder.layers.23.mlp.fc2.bias', 'vision_model.encoder.layers.18.self_attn.q_proj.bias', 'vision_model.encoder.layers.0.self_attn.q_proj.bias', 'vision_model.encoder.layers.8.mlp.fc1.bias', 'vision_model.encoder.layers.17.self_attn.k_proj.weight', 'vision_model.encoder.layers.15.mlp.fc1.weight', 'vision_model.encoder.layers.9.self_attn.k_proj.weight', 'vision_model.encoder.layers.23.self_attn.v_proj.weight', 'vision_model.encoder.layers.14.self_attn.v_proj.bias', 'vision_model.encoder.layers.9.self_attn.v_proj.bias', 'vision_model.encoder.layers.22.self_attn.k_proj.bias', 'text_projection.weight', 'vision_model.encoder.layers.14.layer_norm1.bias', 'vision_model.encoder.layers.20.self_attn.q_proj.weight', 'vision_model.encoder.layers.18.layer_norm1.bias', 'vision_model.encoder.layers.7.self_attn.k_proj.bias', 'vision_model.encoder.layers.16.self_attn.v_proj.weight', 'vision_model.encoder.layers.3.self_attn.v_proj.weight', 'vision_model.encoder.layers.4.self_attn.q_proj.bias', 'vision_model.encoder.layers.21.mlp.fc2.weight', 'vision_model.encoder.layers.5.self_attn.out_proj.bias', 'vision_model.encoder.layers.5.mlp.fc2.weight', 'vision_model.embeddings.position_ids', 'vision_model.encoder.layers.4.mlp.fc1.bias', 'vision_model.encoder.layers.22.self_attn.out_proj.weight', 'vision_model.encoder.layers.13.self_attn.out_proj.bias', 'vision_model.encoder.layers.17.mlp.fc1.bias', 'vision_model.encoder.layers.16.mlp.fc2.bias', 'vision_model.encoder.layers.13.mlp.fc1.bias', 'vision_model.encoder.layers.17.layer_norm2.bias', 'vision_model.encoder.layers.10.layer_norm2.weight', 'vision_model.encoder.layers.16.layer_norm2.weight']\n",
      "- This IS expected if you are initializing CLIPTextModel from the checkpoint of a model trained on another task or with another architecture (e.g. initializing a BertForSequenceClassification model from a BertForPreTraining model).\n",
      "- This IS NOT expected if you are initializing CLIPTextModel from the checkpoint of a model that you expect to be exactly identical (initializing a BertForSequenceClassification model from a BertForSequenceClassification model).\n"
     ]
    },
    {
     "name": "stdout",
     "output_type": "stream",
     "text": [
      "Setting up MemoryEfficientCrossAttention. Query dim is 320, context_dim is None and using 8 heads.\n",
      "Setting up MemoryEfficientCrossAttention. Query dim is 320, context_dim is 768 and using 8 heads.\n",
      "Setting up MemoryEfficientCrossAttention. Query dim is 320, context_dim is None and using 8 heads.\n",
      "Setting up MemoryEfficientCrossAttention. Query dim is 320, context_dim is 768 and using 8 heads.\n",
      "Setting up MemoryEfficientCrossAttention. Query dim is 640, context_dim is None and using 8 heads.\n",
      "Setting up MemoryEfficientCrossAttention. Query dim is 640, context_dim is 768 and using 8 heads.\n",
      "Setting up MemoryEfficientCrossAttention. Query dim is 640, context_dim is None and using 8 heads.\n",
      "Setting up MemoryEfficientCrossAttention. Query dim is 640, context_dim is 768 and using 8 heads.\n",
      "Setting up MemoryEfficientCrossAttention. Query dim is 1280, context_dim is None and using 8 heads.\n",
      "Setting up MemoryEfficientCrossAttention. Query dim is 1280, context_dim is 768 and using 8 heads.\n",
      "Setting up MemoryEfficientCrossAttention. Query dim is 1280, context_dim is None and using 8 heads.\n",
      "Setting up MemoryEfficientCrossAttention. Query dim is 1280, context_dim is 768 and using 8 heads.\n",
      "Setting up MemoryEfficientCrossAttention. Query dim is 1280, context_dim is None and using 8 heads.\n",
      "Setting up MemoryEfficientCrossAttention. Query dim is 1280, context_dim is 768 and using 8 heads.\n",
      "Loaded model config from [../../models/cldm_v15.yaml]\n",
      "Loaded state_dict from [../../models/control_sd15_hed.pth]\n"
     ]
    }
   ],
   "source": [
    "# First use cpu to load models. Pytorch Lightning will automatically move it to GPUs.\n",
    "model = create_model(model_config).cpu()\n",
    "model.load_state_dict(load_state_dict(resume_path, location='cpu'))\n",
    "model.learning_rate = learning_rate\n",
    "model.sd_locked = sd_locked\n",
    "model.only_mid_control = only_mid_control"
   ]
  },
  {
   "cell_type": "code",
   "execution_count": 7,
   "id": "ed7f207d",
   "metadata": {},
   "outputs": [
    {
     "name": "stderr",
     "output_type": "stream",
     "text": [
      "GPU available: True, used: True\n",
      "TPU available: False, using: 0 TPU cores\n",
      "IPU available: False, using: 0 IPUs\n"
     ]
    }
   ],
   "source": [
    "# Misc\n",
    "dataloader = DataLoader(dataset, num_workers=0, batch_size=batch_size, shuffle=True)\n",
    "\n",
    "logger = ImageLogger(batch_frequency=logger_freq)\n",
    "callbacks_ckpt = pl.callbacks.ModelCheckpoint(every_n_train_steps=1000)\n",
    "\n",
    "trainer = pl.Trainer(gpus=1, precision=32, callbacks=[logger, callbacks_ckpt], accumulate_grad_batches=4, max_steps=10000)"
   ]
  },
  {
   "cell_type": "code",
   "execution_count": null,
   "id": "a55347f8",
   "metadata": {},
   "outputs": [
    {
     "name": "stderr",
     "output_type": "stream",
     "text": [
      "/opt/conda/lib/python3.9/site-packages/pytorch_lightning/trainer/configuration_validator.py:118: UserWarning: You defined a `validation_step` but have no `val_dataloader`. Skipping val loop.\n",
      "  rank_zero_warn(\"You defined a `validation_step` but have no `val_dataloader`. Skipping val loop.\")\n",
      "/opt/conda/lib/python3.9/site-packages/pytorch_lightning/trainer/configuration_validator.py:280: LightningDeprecationWarning: Base `LightningModule.on_train_batch_start` hook signature has changed in v1.5. The `dataloader_idx` argument will be removed in v1.7.\n",
      "  rank_zero_deprecation(\n",
      "/opt/conda/lib/python3.9/site-packages/pytorch_lightning/trainer/configuration_validator.py:287: LightningDeprecationWarning: Base `Callback.on_train_batch_end` hook signature has changed in v1.5. The `dataloader_idx` argument will be removed in v1.7.\n",
      "  rank_zero_deprecation(\n",
      "LOCAL_RANK: 0 - CUDA_VISIBLE_DEVICES: [0,1,2,3]\n",
      "\n",
      "  | Name              | Type               | Params\n",
      "---------------------------------------------------------\n",
      "0 | model             | DiffusionWrapper   | 859 M \n",
      "1 | first_stage_model | AutoencoderKL      | 83.7 M\n",
      "2 | cond_stage_model  | FrozenCLIPEmbedder | 123 M \n",
      "3 | control_model     | ControlNet         | 361 M \n",
      "---------------------------------------------------------\n",
      "1.2 B     Trainable params\n",
      "206 M     Non-trainable params\n",
      "1.4 B     Total params\n",
      "5,710.058 Total estimated model params size (MB)\n",
      "/opt/conda/lib/python3.9/site-packages/pytorch_lightning/trainer/data_loading.py:110: UserWarning: The dataloader, train_dataloader, does not have many workers which may be a bottleneck. Consider increasing the value of the `num_workers` argument` (try 48 which is the number of cpus on this machine) in the `DataLoader` init to improve performance.\n",
      "  rank_zero_warn(\n"
     ]
    },
    {
     "data": {
      "application/vnd.jupyter.widget-view+json": {
       "model_id": "261ff0b39af348e0999ae64c2bd969fd",
       "version_major": 2,
       "version_minor": 0
      },
      "text/plain": [
       "Training: 0it [00:00, ?it/s]"
      ]
     },
     "metadata": {},
     "output_type": "display_data"
    },
    {
     "name": "stderr",
     "output_type": "stream",
     "text": [
      "/opt/conda/lib/python3.9/site-packages/pytorch_lightning/utilities/data.py:56: UserWarning: Trying to infer the `batch_size` from an ambiguous collection. The batch size we found is 1. To avoid any miscalculations, use `self.log(..., batch_size=batch_size)`.\n",
      "  warning_cache.warn(\n"
     ]
    },
    {
     "name": "stdout",
     "output_type": "stream",
     "text": [
      "Data shape for DDIM sampling is (1, 4, 80, 80), eta 0.0\n",
      "Running DDIM Sampling with 50 timesteps\n"
     ]
    },
    {
     "name": "stderr",
     "output_type": "stream",
     "text": [
      "\n",
      "DDIM Sampler:   0%|                                                                                                               | 0/50 [00:00<?, ?it/s]\u001b[A\n",
      "DDIM Sampler:   2%|██                                                                                                     | 1/50 [00:00<00:18,  2.63it/s]\u001b[A\n",
      "DDIM Sampler:   4%|████                                                                                                   | 2/50 [00:00<00:17,  2.75it/s]\u001b[A\n",
      "DDIM Sampler:   6%|██████▏                                                                                                | 3/50 [00:01<00:16,  2.79it/s]\u001b[A\n",
      "DDIM Sampler:   8%|████████▏                                                                                              | 4/50 [00:01<00:16,  2.81it/s]\u001b[A\n",
      "DDIM Sampler:  10%|██████████▎                                                                                            | 5/50 [00:01<00:16,  2.81it/s]\u001b[A\n",
      "DDIM Sampler:  12%|████████████▎                                                                                          | 6/50 [00:02<00:15,  2.82it/s]\u001b[A\n",
      "DDIM Sampler:  14%|██████████████▍                                                                                        | 7/50 [00:02<00:15,  2.82it/s]\u001b[A\n",
      "DDIM Sampler:  16%|████████████████▍                                                                                      | 8/50 [00:02<00:14,  2.82it/s]\u001b[A\n",
      "DDIM Sampler:  18%|██████████████████▌                                                                                    | 9/50 [00:03<00:14,  2.83it/s]\u001b[A\n",
      "DDIM Sampler:  20%|████████████████████▍                                                                                 | 10/50 [00:03<00:14,  2.83it/s]\u001b[A\n",
      "DDIM Sampler:  22%|██████████████████████▍                                                                               | 11/50 [00:03<00:13,  2.83it/s]\u001b[A\n",
      "DDIM Sampler:  24%|████████████████████████▍                                                                             | 12/50 [00:04<00:13,  2.83it/s]\u001b[A\n",
      "DDIM Sampler:  26%|██████████████████████████▌                                                                           | 13/50 [00:04<00:13,  2.83it/s]\u001b[A\n",
      "DDIM Sampler:  28%|████████████████████████████▌                                                                         | 14/50 [00:04<00:12,  2.83it/s]\u001b[A\n",
      "DDIM Sampler:  30%|██████████████████████████████▌                                                                       | 15/50 [00:05<00:12,  2.83it/s]\u001b[A\n",
      "DDIM Sampler:  32%|████████████████████████████████▋                                                                     | 16/50 [00:05<00:12,  2.83it/s]\u001b[A\n",
      "DDIM Sampler:  34%|██████████████████████████████████▋                                                                   | 17/50 [00:06<00:11,  2.83it/s]\u001b[A\n",
      "DDIM Sampler:  36%|████████████████████████████████████▋                                                                 | 18/50 [00:06<00:11,  2.83it/s]\u001b[A\n",
      "DDIM Sampler:  38%|██████████████████████████████████████▊                                                               | 19/50 [00:06<00:10,  2.83it/s]\u001b[A\n",
      "DDIM Sampler:  40%|████████████████████████████████████████▊                                                             | 20/50 [00:07<00:10,  2.83it/s]\u001b[A\n",
      "DDIM Sampler:  42%|██████████████████████████████████████████▊                                                           | 21/50 [00:07<00:10,  2.83it/s]\u001b[A\n",
      "DDIM Sampler:  44%|████████████████████████████████████████████▉                                                         | 22/50 [00:07<00:09,  2.83it/s]\u001b[A\n",
      "DDIM Sampler:  46%|██████████████████████████████████████████████▉                                                       | 23/50 [00:08<00:09,  2.83it/s]\u001b[A\n",
      "DDIM Sampler:  48%|████████████████████████████████████████████████▉                                                     | 24/50 [00:08<00:09,  2.83it/s]\u001b[A\n",
      "DDIM Sampler:  50%|███████████████████████████████████████████████████                                                   | 25/50 [00:08<00:08,  2.83it/s]\u001b[A\n",
      "DDIM Sampler:  52%|█████████████████████████████████████████████████████                                                 | 26/50 [00:09<00:08,  2.83it/s]\u001b[A\n",
      "DDIM Sampler:  54%|███████████████████████████████████████████████████████                                               | 27/50 [00:09<00:08,  2.83it/s]\u001b[A\n",
      "DDIM Sampler:  56%|█████████████████████████████████████████████████████████                                             | 28/50 [00:09<00:07,  2.83it/s]\u001b[A\n",
      "DDIM Sampler:  58%|███████████████████████████████████████████████████████████▏                                          | 29/50 [00:10<00:07,  2.83it/s]\u001b[A\n",
      "DDIM Sampler:  60%|█████████████████████████████████████████████████████████████▏                                        | 30/50 [00:10<00:07,  2.83it/s]\u001b[A\n",
      "DDIM Sampler:  62%|███████████████████████████████████████████████████████████████▏                                      | 31/50 [00:10<00:06,  2.83it/s]\u001b[A\n",
      "DDIM Sampler:  64%|█████████████████████████████████████████████████████████████████▎                                    | 32/50 [00:11<00:06,  2.83it/s]\u001b[A\n",
      "DDIM Sampler:  66%|███████████████████████████████████████████████████████████████████▎                                  | 33/50 [00:11<00:06,  2.82it/s]\u001b[A\n",
      "DDIM Sampler:  68%|█████████████████████████████████████████████████████████████████████▎                                | 34/50 [00:12<00:05,  2.83it/s]\u001b[A\n",
      "DDIM Sampler:  70%|███████████████████████████████████████████████████████████████████████▍                              | 35/50 [00:12<00:05,  2.83it/s]\u001b[A\n",
      "DDIM Sampler:  72%|█████████████████████████████████████████████████████████████████████████▍                            | 36/50 [00:12<00:04,  2.83it/s]\u001b[A\n",
      "DDIM Sampler:  74%|███████████████████████████████████████████████████████████████████████████▍                          | 37/50 [00:13<00:04,  2.82it/s]\u001b[A\n",
      "DDIM Sampler:  76%|█████████████████████████████████████████████████████████████████████████████▌                        | 38/50 [00:13<00:04,  2.82it/s]\u001b[A\n",
      "DDIM Sampler:  78%|███████████████████████████████████████████████████████████████████████████████▌                      | 39/50 [00:13<00:03,  2.82it/s]\u001b[A\n",
      "DDIM Sampler:  80%|█████████████████████████████████████████████████████████████████████████████████▌                    | 40/50 [00:14<00:03,  2.82it/s]\u001b[A\n",
      "DDIM Sampler:  82%|███████████████████████████████████████████████████████████████████████████████████▋                  | 41/50 [00:14<00:03,  2.82it/s]\u001b[A\n",
      "DDIM Sampler:  84%|█████████████████████████████████████████████████████████████████████████████████████▋                | 42/50 [00:14<00:02,  2.82it/s]\u001b[A\n",
      "DDIM Sampler:  86%|███████████████████████████████████████████████████████████████████████████████████████▋              | 43/50 [00:15<00:02,  2.82it/s]\u001b[A\n",
      "DDIM Sampler:  88%|█████████████████████████████████████████████████████████████████████████████████████████▊            | 44/50 [00:15<00:02,  2.82it/s]\u001b[A\n",
      "DDIM Sampler:  90%|███████████████████████████████████████████████████████████████████████████████████████████▊          | 45/50 [00:15<00:01,  2.82it/s]\u001b[A\n",
      "DDIM Sampler:  92%|█████████████████████████████████████████████████████████████████████████████████████████████▊        | 46/50 [00:16<00:01,  2.83it/s]\u001b[A\n",
      "DDIM Sampler:  94%|███████████████████████████████████████████████████████████████████████████████████████████████▉      | 47/50 [00:16<00:01,  2.82it/s]\u001b[A\n",
      "DDIM Sampler:  96%|█████████████████████████████████████████████████████████████████████████████████████████████████▉    | 48/50 [00:17<00:00,  2.82it/s]\u001b[A\n",
      "DDIM Sampler:  98%|███████████████████████████████████████████████████████████████████████████████████████████████████▉  | 49/50 [00:17<00:00,  2.82it/s]\u001b[A\n",
      "DDIM Sampler: 100%|██████████████████████████████████████████████████████████████████████████████████████████████████████| 50/50 [00:17<00:00,  2.82it/s]\u001b[A\n"
     ]
    },
    {
     "name": "stdout",
     "output_type": "stream",
     "text": [
      "Data shape for DDIM sampling is (1, 4, 80, 80), eta 0.0\n",
      "Running DDIM Sampling with 50 timesteps\n"
     ]
    },
    {
     "name": "stderr",
     "output_type": "stream",
     "text": [
      "\n",
      "DDIM Sampler:   0%|                                                                                                               | 0/50 [00:00<?, ?it/s]\u001b[A\n",
      "DDIM Sampler:   2%|██                                                                                                     | 1/50 [00:00<00:17,  2.83it/s]\u001b[A\n",
      "DDIM Sampler:   4%|████                                                                                                   | 2/50 [00:00<00:16,  2.82it/s]\u001b[A\n",
      "DDIM Sampler:   6%|██████▏                                                                                                | 3/50 [00:01<00:16,  2.82it/s]\u001b[A\n",
      "DDIM Sampler:   8%|████████▏                                                                                              | 4/50 [00:01<00:16,  2.82it/s]\u001b[A\n",
      "DDIM Sampler:  10%|██████████▎                                                                                            | 5/50 [00:01<00:15,  2.82it/s]\u001b[A\n",
      "DDIM Sampler:  12%|████████████▎                                                                                          | 6/50 [00:02<00:15,  2.82it/s]\u001b[A\n",
      "DDIM Sampler:  14%|██████████████▍                                                                                        | 7/50 [00:02<00:15,  2.82it/s]\u001b[A\n",
      "DDIM Sampler:  16%|████████████████▍                                                                                      | 8/50 [00:02<00:14,  2.82it/s]\u001b[A\n",
      "DDIM Sampler:  18%|██████████████████▌                                                                                    | 9/50 [00:03<00:14,  2.82it/s]\u001b[A\n",
      "DDIM Sampler:  20%|████████████████████▍                                                                                 | 10/50 [00:03<00:14,  2.82it/s]\u001b[A\n",
      "DDIM Sampler:  22%|██████████████████████▍                                                                               | 11/50 [00:03<00:13,  2.82it/s]\u001b[A\n",
      "DDIM Sampler:  24%|████████████████████████▍                                                                             | 12/50 [00:04<00:13,  2.82it/s]\u001b[A\n",
      "DDIM Sampler:  26%|██████████████████████████▌                                                                           | 13/50 [00:04<00:13,  2.82it/s]\u001b[A\n",
      "DDIM Sampler:  28%|████████████████████████████▌                                                                         | 14/50 [00:04<00:12,  2.82it/s]\u001b[A\n",
      "DDIM Sampler:  30%|██████████████████████████████▌                                                                       | 15/50 [00:05<00:12,  2.82it/s]\u001b[A\n",
      "DDIM Sampler:  32%|████████████████████████████████▋                                                                     | 16/50 [00:05<00:12,  2.82it/s]\u001b[A\n",
      "DDIM Sampler:  34%|██████████████████████████████████▋                                                                   | 17/50 [00:06<00:11,  2.82it/s]\u001b[A\n",
      "DDIM Sampler:  36%|████████████████████████████████████▋                                                                 | 18/50 [00:06<00:11,  2.82it/s]\u001b[A\n",
      "DDIM Sampler:  38%|██████████████████████████████████████▊                                                               | 19/50 [00:06<00:11,  2.82it/s]\u001b[A\n",
      "DDIM Sampler:  40%|████████████████████████████████████████▊                                                             | 20/50 [00:07<00:10,  2.82it/s]\u001b[A\n",
      "DDIM Sampler:  42%|██████████████████████████████████████████▊                                                           | 21/50 [00:07<00:10,  2.82it/s]\u001b[A\n",
      "DDIM Sampler:  44%|████████████████████████████████████████████▉                                                         | 22/50 [00:07<00:09,  2.82it/s]\u001b[A\n",
      "DDIM Sampler:  46%|██████████████████████████████████████████████▉                                                       | 23/50 [00:08<00:09,  2.82it/s]\u001b[A\n",
      "DDIM Sampler:  48%|████████████████████████████████████████████████▉                                                     | 24/50 [00:08<00:09,  2.82it/s]\u001b[A\n",
      "DDIM Sampler:  50%|███████████████████████████████████████████████████                                                   | 25/50 [00:08<00:08,  2.82it/s]\u001b[A\n",
      "DDIM Sampler:  52%|█████████████████████████████████████████████████████                                                 | 26/50 [00:09<00:08,  2.82it/s]\u001b[A\n",
      "DDIM Sampler:  54%|███████████████████████████████████████████████████████                                               | 27/50 [00:09<00:08,  2.82it/s]\u001b[A\n",
      "DDIM Sampler:  56%|█████████████████████████████████████████████████████████                                             | 28/50 [00:09<00:07,  2.82it/s]\u001b[A\n",
      "DDIM Sampler:  58%|███████████████████████████████████████████████████████████▏                                          | 29/50 [00:10<00:07,  2.82it/s]\u001b[A\n",
      "DDIM Sampler:  60%|█████████████████████████████████████████████████████████████▏                                        | 30/50 [00:10<00:07,  2.82it/s]\u001b[A\n",
      "DDIM Sampler:  62%|███████████████████████████████████████████████████████████████▏                                      | 31/50 [00:11<00:06,  2.82it/s]\u001b[A\n",
      "DDIM Sampler:  64%|█████████████████████████████████████████████████████████████████▎                                    | 32/50 [00:11<00:06,  2.82it/s]\u001b[A\n",
      "DDIM Sampler:  66%|███████████████████████████████████████████████████████████████████▎                                  | 33/50 [00:11<00:06,  2.82it/s]\u001b[A\n",
      "DDIM Sampler:  68%|█████████████████████████████████████████████████████████████████████▎                                | 34/50 [00:12<00:05,  2.82it/s]\u001b[A\n",
      "DDIM Sampler:  70%|███████████████████████████████████████████████████████████████████████▍                              | 35/50 [00:12<00:05,  2.82it/s]\u001b[A\n",
      "DDIM Sampler:  72%|█████████████████████████████████████████████████████████████████████████▍                            | 36/50 [00:12<00:04,  2.82it/s]\u001b[A\n",
      "DDIM Sampler:  74%|███████████████████████████████████████████████████████████████████████████▍                          | 37/50 [00:13<00:04,  2.82it/s]\u001b[A\n",
      "DDIM Sampler:  76%|█████████████████████████████████████████████████████████████████████████████▌                        | 38/50 [00:13<00:04,  2.82it/s]\u001b[A\n",
      "DDIM Sampler:  78%|███████████████████████████████████████████████████████████████████████████████▌                      | 39/50 [00:13<00:03,  2.82it/s]\u001b[A\n",
      "DDIM Sampler:  80%|█████████████████████████████████████████████████████████████████████████████████▌                    | 40/50 [00:14<00:03,  2.82it/s]\u001b[A\n",
      "DDIM Sampler:  82%|███████████████████████████████████████████████████████████████████████████████████▋                  | 41/50 [00:14<00:03,  2.82it/s]\u001b[A\n",
      "DDIM Sampler:  84%|█████████████████████████████████████████████████████████████████████████████████████▋                | 42/50 [00:14<00:02,  2.82it/s]\u001b[A\n",
      "DDIM Sampler:  86%|███████████████████████████████████████████████████████████████████████████████████████▋              | 43/50 [00:15<00:02,  2.82it/s]\u001b[A\n",
      "DDIM Sampler:  88%|█████████████████████████████████████████████████████████████████████████████████████████▊            | 44/50 [00:15<00:02,  2.82it/s]\u001b[A\n",
      "DDIM Sampler:  90%|███████████████████████████████████████████████████████████████████████████████████████████▊          | 45/50 [00:15<00:01,  2.82it/s]\u001b[A\n",
      "DDIM Sampler:  92%|█████████████████████████████████████████████████████████████████████████████████████████████▊        | 46/50 [00:16<00:01,  2.82it/s]\u001b[A\n",
      "DDIM Sampler:  94%|███████████████████████████████████████████████████████████████████████████████████████████████▉      | 47/50 [00:16<00:01,  2.81it/s]\u001b[A\n",
      "DDIM Sampler:  96%|█████████████████████████████████████████████████████████████████████████████████████████████████▉    | 48/50 [00:17<00:00,  2.81it/s]\u001b[A\n",
      "DDIM Sampler:  98%|███████████████████████████████████████████████████████████████████████████████████████████████████▉  | 49/50 [00:17<00:00,  2.81it/s]\u001b[A\n",
      "DDIM Sampler: 100%|██████████████████████████████████████████████████████████████████████████████████████████████████████| 50/50 [00:17<00:00,  2.82it/s]\u001b[A\n"
     ]
    },
    {
     "name": "stdout",
     "output_type": "stream",
     "text": [
      "Data shape for DDIM sampling is (1, 4, 80, 80), eta 0.0\n",
      "Running DDIM Sampling with 50 timesteps\n"
     ]
    },
    {
     "name": "stderr",
     "output_type": "stream",
     "text": [
      "\n",
      "DDIM Sampler:   0%|                                                                                                               | 0/50 [00:00<?, ?it/s]\u001b[A\n",
      "DDIM Sampler:   2%|██                                                                                                     | 1/50 [00:00<00:17,  2.83it/s]\u001b[A\n",
      "DDIM Sampler:   4%|████                                                                                                   | 2/50 [00:00<00:17,  2.82it/s]\u001b[A\n",
      "DDIM Sampler:   6%|██████▏                                                                                                | 3/50 [00:01<00:16,  2.82it/s]\u001b[A\n",
      "DDIM Sampler:   8%|████████▏                                                                                              | 4/50 [00:01<00:16,  2.82it/s]\u001b[A\n",
      "DDIM Sampler:  10%|██████████▎                                                                                            | 5/50 [00:01<00:15,  2.81it/s]\u001b[A\n",
      "DDIM Sampler:  12%|████████████▎                                                                                          | 6/50 [00:02<00:15,  2.81it/s]\u001b[A\n",
      "DDIM Sampler:  14%|██████████████▍                                                                                        | 7/50 [00:02<00:15,  2.81it/s]\u001b[A\n",
      "DDIM Sampler:  16%|████████████████▍                                                                                      | 8/50 [00:02<00:14,  2.81it/s]\u001b[A\n",
      "DDIM Sampler:  18%|██████████████████▌                                                                                    | 9/50 [00:03<00:14,  2.81it/s]\u001b[A\n",
      "DDIM Sampler:  20%|████████████████████▍                                                                                 | 10/50 [00:03<00:14,  2.81it/s]\u001b[A\n",
      "DDIM Sampler:  22%|██████████████████████▍                                                                               | 11/50 [00:03<00:13,  2.81it/s]\u001b[A\n",
      "DDIM Sampler:  24%|████████████████████████▍                                                                             | 12/50 [00:04<00:13,  2.81it/s]\u001b[A\n",
      "DDIM Sampler:  26%|██████████████████████████▌                                                                           | 13/50 [00:04<00:13,  2.81it/s]\u001b[A\n",
      "DDIM Sampler:  28%|████████████████████████████▌                                                                         | 14/50 [00:04<00:12,  2.81it/s]\u001b[A\n",
      "DDIM Sampler:  30%|██████████████████████████████▌                                                                       | 15/50 [00:05<00:12,  2.81it/s]\u001b[A\n",
      "DDIM Sampler:  32%|████████████████████████████████▋                                                                     | 16/50 [00:05<00:12,  2.81it/s]\u001b[A\n",
      "DDIM Sampler:  34%|██████████████████████████████████▋                                                                   | 17/50 [00:06<00:11,  2.81it/s]\u001b[A\n",
      "DDIM Sampler:  36%|████████████████████████████████████▋                                                                 | 18/50 [00:06<00:11,  2.81it/s]\u001b[A\n",
      "DDIM Sampler:  38%|██████████████████████████████████████▊                                                               | 19/50 [00:06<00:11,  2.82it/s]\u001b[A\n",
      "DDIM Sampler:  40%|████████████████████████████████████████▊                                                             | 20/50 [00:07<00:10,  2.81it/s]\u001b[A\n",
      "DDIM Sampler:  42%|██████████████████████████████████████████▊                                                           | 21/50 [00:07<00:10,  2.81it/s]\u001b[A\n",
      "DDIM Sampler:  44%|████████████████████████████████████████████▉                                                         | 22/50 [00:07<00:09,  2.82it/s]\u001b[A\n",
      "DDIM Sampler:  46%|██████████████████████████████████████████████▉                                                       | 23/50 [00:08<00:09,  2.82it/s]\u001b[A\n",
      "DDIM Sampler:  48%|████████████████████████████████████████████████▉                                                     | 24/50 [00:08<00:09,  2.82it/s]\u001b[A\n",
      "DDIM Sampler:  50%|███████████████████████████████████████████████████                                                   | 25/50 [00:08<00:08,  2.82it/s]\u001b[A\n",
      "DDIM Sampler:  52%|█████████████████████████████████████████████████████                                                 | 26/50 [00:09<00:08,  2.82it/s]\u001b[A\n",
      "DDIM Sampler:  54%|███████████████████████████████████████████████████████                                               | 27/50 [00:09<00:08,  2.82it/s]\u001b[A\n",
      "DDIM Sampler:  56%|█████████████████████████████████████████████████████████                                             | 28/50 [00:09<00:07,  2.82it/s]\u001b[A\n",
      "DDIM Sampler:  58%|███████████████████████████████████████████████████████████▏                                          | 29/50 [00:10<00:07,  2.82it/s]\u001b[A\n",
      "DDIM Sampler:  60%|█████████████████████████████████████████████████████████████▏                                        | 30/50 [00:10<00:07,  2.82it/s]\u001b[A\n",
      "DDIM Sampler:  62%|███████████████████████████████████████████████████████████████▏                                      | 31/50 [00:11<00:06,  2.82it/s]\u001b[A\n",
      "DDIM Sampler:  64%|█████████████████████████████████████████████████████████████████▎                                    | 32/50 [00:11<00:06,  2.82it/s]\u001b[A\n",
      "DDIM Sampler:  66%|███████████████████████████████████████████████████████████████████▎                                  | 33/50 [00:11<00:06,  2.82it/s]\u001b[A\n",
      "DDIM Sampler:  68%|█████████████████████████████████████████████████████████████████████▎                                | 34/50 [00:12<00:05,  2.82it/s]\u001b[A\n",
      "DDIM Sampler:  70%|███████████████████████████████████████████████████████████████████████▍                              | 35/50 [00:12<00:05,  2.82it/s]\u001b[A\n",
      "DDIM Sampler:  72%|█████████████████████████████████████████████████████████████████████████▍                            | 36/50 [00:12<00:04,  2.82it/s]\u001b[A\n",
      "DDIM Sampler:  74%|███████████████████████████████████████████████████████████████████████████▍                          | 37/50 [00:13<00:04,  2.82it/s]\u001b[A\n",
      "DDIM Sampler:  76%|█████████████████████████████████████████████████████████████████████████████▌                        | 38/50 [00:13<00:04,  2.82it/s]\u001b[A\n",
      "DDIM Sampler:  78%|███████████████████████████████████████████████████████████████████████████████▌                      | 39/50 [00:13<00:03,  2.82it/s]\u001b[A\n",
      "DDIM Sampler:  80%|█████████████████████████████████████████████████████████████████████████████████▌                    | 40/50 [00:14<00:03,  2.82it/s]\u001b[A\n",
      "DDIM Sampler:  82%|███████████████████████████████████████████████████████████████████████████████████▋                  | 41/50 [00:14<00:03,  2.82it/s]\u001b[A\n",
      "DDIM Sampler:  84%|█████████████████████████████████████████████████████████████████████████████████████▋                | 42/50 [00:14<00:02,  2.82it/s]\u001b[A\n",
      "DDIM Sampler:  86%|███████████████████████████████████████████████████████████████████████████████████████▋              | 43/50 [00:15<00:02,  2.82it/s]\u001b[A\n",
      "DDIM Sampler:  88%|█████████████████████████████████████████████████████████████████████████████████████████▊            | 44/50 [00:15<00:02,  2.82it/s]\u001b[A\n",
      "DDIM Sampler:  90%|███████████████████████████████████████████████████████████████████████████████████████████▊          | 45/50 [00:15<00:01,  2.82it/s]\u001b[A\n",
      "DDIM Sampler:  92%|█████████████████████████████████████████████████████████████████████████████████████████████▊        | 46/50 [00:16<00:01,  2.82it/s]\u001b[A\n",
      "DDIM Sampler:  94%|███████████████████████████████████████████████████████████████████████████████████████████████▉      | 47/50 [00:16<00:01,  2.82it/s]\u001b[A\n",
      "DDIM Sampler:  96%|█████████████████████████████████████████████████████████████████████████████████████████████████▉    | 48/50 [00:17<00:00,  2.82it/s]\u001b[A\n",
      "DDIM Sampler:  98%|███████████████████████████████████████████████████████████████████████████████████████████████████▉  | 49/50 [00:17<00:00,  2.82it/s]\u001b[A\n",
      "DDIM Sampler: 100%|██████████████████████████████████████████████████████████████████████████████████████████████████████| 50/50 [00:17<00:00,  2.82it/s]\u001b[A\n"
     ]
    },
    {
     "name": "stdout",
     "output_type": "stream",
     "text": [
      "Data shape for DDIM sampling is (1, 4, 80, 80), eta 0.0\n",
      "Running DDIM Sampling with 50 timesteps\n"
     ]
    },
    {
     "name": "stderr",
     "output_type": "stream",
     "text": [
      "\n",
      "DDIM Sampler:   0%|                                                                                                               | 0/50 [00:00<?, ?it/s]\u001b[A\n",
      "DDIM Sampler:   2%|██                                                                                                     | 1/50 [00:00<00:17,  2.84it/s]\u001b[A\n",
      "DDIM Sampler:   4%|████                                                                                                   | 2/50 [00:00<00:16,  2.82it/s]\u001b[A\n",
      "DDIM Sampler:   6%|██████▏                                                                                                | 3/50 [00:01<00:16,  2.82it/s]\u001b[A\n",
      "DDIM Sampler:   8%|████████▏                                                                                              | 4/50 [00:01<00:16,  2.82it/s]\u001b[A\n",
      "DDIM Sampler:  10%|██████████▎                                                                                            | 5/50 [00:01<00:15,  2.82it/s]\u001b[A\n",
      "DDIM Sampler:  12%|████████████▎                                                                                          | 6/50 [00:02<00:15,  2.82it/s]\u001b[A\n",
      "DDIM Sampler:  14%|██████████████▍                                                                                        | 7/50 [00:02<00:15,  2.82it/s]\u001b[A\n",
      "DDIM Sampler:  16%|████████████████▍                                                                                      | 8/50 [00:02<00:14,  2.82it/s]\u001b[A\n",
      "DDIM Sampler:  18%|██████████████████▌                                                                                    | 9/50 [00:03<00:14,  2.82it/s]\u001b[A\n",
      "DDIM Sampler:  20%|████████████████████▍                                                                                 | 10/50 [00:03<00:14,  2.82it/s]\u001b[A\n",
      "DDIM Sampler:  22%|██████████████████████▍                                                                               | 11/50 [00:03<00:13,  2.82it/s]\u001b[A\n",
      "DDIM Sampler:  24%|████████████████████████▍                                                                             | 12/50 [00:04<00:13,  2.82it/s]\u001b[A\n",
      "DDIM Sampler:  26%|██████████████████████████▌                                                                           | 13/50 [00:04<00:13,  2.82it/s]\u001b[A\n",
      "DDIM Sampler:  28%|████████████████████████████▌                                                                         | 14/50 [00:04<00:12,  2.82it/s]\u001b[A\n",
      "DDIM Sampler:  30%|██████████████████████████████▌                                                                       | 15/50 [00:05<00:12,  2.82it/s]\u001b[A\n",
      "DDIM Sampler:  32%|████████████████████████████████▋                                                                     | 16/50 [00:05<00:12,  2.82it/s]\u001b[A\n",
      "DDIM Sampler:  34%|██████████████████████████████████▋                                                                   | 17/50 [00:06<00:11,  2.82it/s]\u001b[A\n",
      "DDIM Sampler:  36%|████████████████████████████████████▋                                                                 | 18/50 [00:06<00:11,  2.82it/s]\u001b[A\n",
      "DDIM Sampler:  38%|██████████████████████████████████████▊                                                               | 19/50 [00:06<00:10,  2.82it/s]\u001b[A\n",
      "DDIM Sampler:  40%|████████████████████████████████████████▊                                                             | 20/50 [00:07<00:10,  2.82it/s]\u001b[A\n",
      "DDIM Sampler:  42%|██████████████████████████████████████████▊                                                           | 21/50 [00:07<00:10,  2.82it/s]\u001b[A\n",
      "DDIM Sampler:  44%|████████████████████████████████████████████▉                                                         | 22/50 [00:07<00:09,  2.82it/s]\u001b[A\n",
      "DDIM Sampler:  46%|██████████████████████████████████████████████▉                                                       | 23/50 [00:08<00:09,  2.82it/s]\u001b[A\n",
      "DDIM Sampler:  48%|████████████████████████████████████████████████▉                                                     | 24/50 [00:08<00:09,  2.82it/s]\u001b[A\n",
      "DDIM Sampler:  50%|███████████████████████████████████████████████████                                                   | 25/50 [00:08<00:08,  2.82it/s]\u001b[A\n",
      "DDIM Sampler:  52%|█████████████████████████████████████████████████████                                                 | 26/50 [00:09<00:08,  2.82it/s]\u001b[A\n",
      "DDIM Sampler:  54%|███████████████████████████████████████████████████████                                               | 27/50 [00:09<00:08,  2.82it/s]\u001b[A\n",
      "DDIM Sampler:  56%|█████████████████████████████████████████████████████████                                             | 28/50 [00:09<00:07,  2.82it/s]\u001b[A\n",
      "DDIM Sampler:  58%|███████████████████████████████████████████████████████████▏                                          | 29/50 [00:10<00:07,  2.82it/s]\u001b[A\n",
      "DDIM Sampler:  60%|█████████████████████████████████████████████████████████████▏                                        | 30/50 [00:10<00:07,  2.82it/s]\u001b[A\n",
      "DDIM Sampler:  62%|███████████████████████████████████████████████████████████████▏                                      | 31/50 [00:10<00:06,  2.82it/s]\u001b[A\n",
      "DDIM Sampler:  64%|█████████████████████████████████████████████████████████████████▎                                    | 32/50 [00:11<00:06,  2.82it/s]\u001b[A\n",
      "DDIM Sampler:  66%|███████████████████████████████████████████████████████████████████▎                                  | 33/50 [00:11<00:06,  2.82it/s]\u001b[A\n",
      "DDIM Sampler:  68%|█████████████████████████████████████████████████████████████████████▎                                | 34/50 [00:12<00:05,  2.82it/s]\u001b[A\n",
      "DDIM Sampler:  70%|███████████████████████████████████████████████████████████████████████▍                              | 35/50 [00:12<00:05,  2.82it/s]\u001b[A\n",
      "DDIM Sampler:  72%|█████████████████████████████████████████████████████████████████████████▍                            | 36/50 [00:12<00:04,  2.82it/s]\u001b[A\n",
      "DDIM Sampler:  74%|███████████████████████████████████████████████████████████████████████████▍                          | 37/50 [00:13<00:04,  2.82it/s]\u001b[A\n",
      "DDIM Sampler:  76%|█████████████████████████████████████████████████████████████████████████████▌                        | 38/50 [00:13<00:04,  2.82it/s]\u001b[A\n",
      "DDIM Sampler:  78%|███████████████████████████████████████████████████████████████████████████████▌                      | 39/50 [00:13<00:03,  2.82it/s]\u001b[A\n",
      "DDIM Sampler:  80%|█████████████████████████████████████████████████████████████████████████████████▌                    | 40/50 [00:14<00:03,  2.82it/s]\u001b[A\n",
      "DDIM Sampler:  82%|███████████████████████████████████████████████████████████████████████████████████▋                  | 41/50 [00:14<00:03,  2.82it/s]\u001b[A\n",
      "DDIM Sampler:  84%|█████████████████████████████████████████████████████████████████████████████████████▋                | 42/50 [00:14<00:02,  2.82it/s]\u001b[A\n",
      "DDIM Sampler:  86%|███████████████████████████████████████████████████████████████████████████████████████▋              | 43/50 [00:15<00:02,  2.82it/s]\u001b[A\n",
      "DDIM Sampler:  88%|█████████████████████████████████████████████████████████████████████████████████████████▊            | 44/50 [00:15<00:02,  2.82it/s]\u001b[A\n",
      "DDIM Sampler:  90%|███████████████████████████████████████████████████████████████████████████████████████████▊          | 45/50 [00:15<00:01,  2.82it/s]\u001b[A\n",
      "DDIM Sampler:  92%|█████████████████████████████████████████████████████████████████████████████████████████████▊        | 46/50 [00:16<00:01,  2.82it/s]\u001b[A\n",
      "DDIM Sampler:  94%|███████████████████████████████████████████████████████████████████████████████████████████████▉      | 47/50 [00:16<00:01,  2.82it/s]\u001b[A\n",
      "DDIM Sampler:  96%|█████████████████████████████████████████████████████████████████████████████████████████████████▉    | 48/50 [00:17<00:00,  2.82it/s]\u001b[A\n",
      "DDIM Sampler:  98%|███████████████████████████████████████████████████████████████████████████████████████████████████▉  | 49/50 [00:17<00:00,  2.82it/s]\u001b[A\n",
      "DDIM Sampler: 100%|██████████████████████████████████████████████████████████████████████████████████████████████████████| 50/50 [00:17<00:00,  2.82it/s]\u001b[A\n"
     ]
    },
    {
     "name": "stdout",
     "output_type": "stream",
     "text": [
      "Data shape for DDIM sampling is (1, 4, 80, 80), eta 0.0\n",
      "Running DDIM Sampling with 50 timesteps\n"
     ]
    },
    {
     "name": "stderr",
     "output_type": "stream",
     "text": [
      "\n",
      "DDIM Sampler:   0%|                                                                                                               | 0/50 [00:00<?, ?it/s]\u001b[A\n",
      "DDIM Sampler:   2%|██                                                                                                     | 1/50 [00:00<00:17,  2.84it/s]\u001b[A\n",
      "DDIM Sampler:   4%|████                                                                                                   | 2/50 [00:00<00:16,  2.83it/s]\u001b[A\n",
      "DDIM Sampler:   6%|██████▏                                                                                                | 3/50 [00:01<00:16,  2.82it/s]\u001b[A\n",
      "DDIM Sampler:   8%|████████▏                                                                                              | 4/50 [00:01<00:16,  2.82it/s]\u001b[A\n",
      "DDIM Sampler:  10%|██████████▎                                                                                            | 5/50 [00:01<00:15,  2.82it/s]\u001b[A\n",
      "DDIM Sampler:  12%|████████████▎                                                                                          | 6/50 [00:02<00:15,  2.82it/s]\u001b[A\n",
      "DDIM Sampler:  14%|██████████████▍                                                                                        | 7/50 [00:02<00:15,  2.82it/s]\u001b[A\n",
      "DDIM Sampler:  16%|████████████████▍                                                                                      | 8/50 [00:02<00:14,  2.82it/s]\u001b[A\n",
      "DDIM Sampler:  18%|██████████████████▌                                                                                    | 9/50 [00:03<00:14,  2.82it/s]\u001b[A\n",
      "DDIM Sampler:  20%|████████████████████▍                                                                                 | 10/50 [00:03<00:14,  2.82it/s]\u001b[A\n",
      "DDIM Sampler:  22%|██████████████████████▍                                                                               | 11/50 [00:03<00:13,  2.82it/s]\u001b[A\n",
      "DDIM Sampler:  24%|████████████████████████▍                                                                             | 12/50 [00:04<00:13,  2.82it/s]\u001b[A\n",
      "DDIM Sampler:  26%|██████████████████████████▌                                                                           | 13/50 [00:04<00:13,  2.82it/s]\u001b[A\n",
      "DDIM Sampler:  28%|████████████████████████████▌                                                                         | 14/50 [00:04<00:12,  2.82it/s]\u001b[A\n",
      "DDIM Sampler:  30%|██████████████████████████████▌                                                                       | 15/50 [00:05<00:12,  2.82it/s]\u001b[A\n",
      "DDIM Sampler:  32%|████████████████████████████████▋                                                                     | 16/50 [00:05<00:12,  2.82it/s]\u001b[A\n",
      "DDIM Sampler:  34%|██████████████████████████████████▋                                                                   | 17/50 [00:06<00:11,  2.82it/s]\u001b[A\n",
      "DDIM Sampler:  36%|████████████████████████████████████▋                                                                 | 18/50 [00:06<00:11,  2.82it/s]\u001b[A\n",
      "DDIM Sampler:  38%|██████████████████████████████████████▊                                                               | 19/50 [00:06<00:11,  2.82it/s]\u001b[A\n",
      "DDIM Sampler:  40%|████████████████████████████████████████▊                                                             | 20/50 [00:07<00:10,  2.82it/s]\u001b[A\n",
      "DDIM Sampler:  42%|██████████████████████████████████████████▊                                                           | 21/50 [00:07<00:10,  2.82it/s]\u001b[A\n",
      "DDIM Sampler:  44%|████████████████████████████████████████████▉                                                         | 22/50 [00:07<00:09,  2.82it/s]\u001b[A\n",
      "DDIM Sampler:  46%|██████████████████████████████████████████████▉                                                       | 23/50 [00:08<00:09,  2.82it/s]\u001b[A\n",
      "DDIM Sampler:  48%|████████████████████████████████████████████████▉                                                     | 24/50 [00:08<00:09,  2.82it/s]\u001b[A\n",
      "DDIM Sampler:  50%|███████████████████████████████████████████████████                                                   | 25/50 [00:08<00:08,  2.82it/s]\u001b[A\n",
      "DDIM Sampler:  52%|█████████████████████████████████████████████████████                                                 | 26/50 [00:09<00:08,  2.82it/s]\u001b[A\n",
      "DDIM Sampler:  54%|███████████████████████████████████████████████████████                                               | 27/50 [00:09<00:08,  2.82it/s]\u001b[A\n",
      "DDIM Sampler:  56%|█████████████████████████████████████████████████████████                                             | 28/50 [00:09<00:07,  2.82it/s]\u001b[A\n",
      "DDIM Sampler:  58%|███████████████████████████████████████████████████████████▏                                          | 29/50 [00:10<00:07,  2.82it/s]\u001b[A\n",
      "DDIM Sampler:  60%|█████████████████████████████████████████████████████████████▏                                        | 30/50 [00:10<00:07,  2.82it/s]\u001b[A\n",
      "DDIM Sampler:  62%|███████████████████████████████████████████████████████████████▏                                      | 31/50 [00:11<00:06,  2.82it/s]\u001b[A\n",
      "DDIM Sampler:  64%|█████████████████████████████████████████████████████████████████▎                                    | 32/50 [00:11<00:06,  2.82it/s]\u001b[A\n",
      "DDIM Sampler:  66%|███████████████████████████████████████████████████████████████████▎                                  | 33/50 [00:11<00:06,  2.82it/s]\u001b[A\n",
      "DDIM Sampler:  68%|█████████████████████████████████████████████████████████████████████▎                                | 34/50 [00:12<00:05,  2.82it/s]\u001b[A\n",
      "DDIM Sampler:  70%|███████████████████████████████████████████████████████████████████████▍                              | 35/50 [00:12<00:05,  2.82it/s]\u001b[A\n",
      "DDIM Sampler:  72%|█████████████████████████████████████████████████████████████████████████▍                            | 36/50 [00:12<00:04,  2.82it/s]\u001b[A\n",
      "DDIM Sampler:  74%|███████████████████████████████████████████████████████████████████████████▍                          | 37/50 [00:13<00:04,  2.82it/s]\u001b[A\n",
      "DDIM Sampler:  76%|█████████████████████████████████████████████████████████████████████████████▌                        | 38/50 [00:13<00:04,  2.82it/s]\u001b[A\n",
      "DDIM Sampler:  78%|███████████████████████████████████████████████████████████████████████████████▌                      | 39/50 [00:13<00:03,  2.82it/s]\u001b[A\n",
      "DDIM Sampler:  80%|█████████████████████████████████████████████████████████████████████████████████▌                    | 40/50 [00:14<00:03,  2.82it/s]\u001b[A\n",
      "DDIM Sampler:  82%|███████████████████████████████████████████████████████████████████████████████████▋                  | 41/50 [00:14<00:03,  2.82it/s]\u001b[A\n",
      "DDIM Sampler:  84%|█████████████████████████████████████████████████████████████████████████████████████▋                | 42/50 [00:14<00:02,  2.82it/s]\u001b[A\n",
      "DDIM Sampler:  86%|███████████████████████████████████████████████████████████████████████████████████████▋              | 43/50 [00:15<00:02,  2.82it/s]\u001b[A\n",
      "DDIM Sampler:  88%|█████████████████████████████████████████████████████████████████████████████████████████▊            | 44/50 [00:15<00:02,  2.82it/s]\u001b[A\n",
      "DDIM Sampler:  90%|███████████████████████████████████████████████████████████████████████████████████████████▊          | 45/50 [00:15<00:01,  2.82it/s]\u001b[A\n",
      "DDIM Sampler:  92%|█████████████████████████████████████████████████████████████████████████████████████████████▊        | 46/50 [00:16<00:01,  2.82it/s]\u001b[A\n",
      "DDIM Sampler:  94%|███████████████████████████████████████████████████████████████████████████████████████████████▉      | 47/50 [00:16<00:01,  2.82it/s]\u001b[A\n",
      "DDIM Sampler:  96%|█████████████████████████████████████████████████████████████████████████████████████████████████▉    | 48/50 [00:17<00:00,  2.82it/s]\u001b[A\n",
      "DDIM Sampler:  98%|███████████████████████████████████████████████████████████████████████████████████████████████████▉  | 49/50 [00:17<00:00,  2.82it/s]\u001b[A\n",
      "DDIM Sampler: 100%|██████████████████████████████████████████████████████████████████████████████████████████████████████| 50/50 [00:17<00:00,  2.82it/s]\u001b[A\n"
     ]
    },
    {
     "name": "stdout",
     "output_type": "stream",
     "text": [
      "Data shape for DDIM sampling is (1, 4, 80, 80), eta 0.0\n",
      "Running DDIM Sampling with 50 timesteps\n"
     ]
    },
    {
     "name": "stderr",
     "output_type": "stream",
     "text": [
      "\n",
      "DDIM Sampler:   0%|                                                                                                               | 0/50 [00:00<?, ?it/s]\u001b[A\n",
      "DDIM Sampler:   2%|██                                                                                                     | 1/50 [00:00<00:17,  2.83it/s]\u001b[A\n",
      "DDIM Sampler:   4%|████                                                                                                   | 2/50 [00:00<00:16,  2.83it/s]\u001b[A\n",
      "DDIM Sampler:   6%|██████▏                                                                                                | 3/50 [00:01<00:16,  2.82it/s]\u001b[A\n",
      "DDIM Sampler:   8%|████████▏                                                                                              | 4/50 [00:01<00:16,  2.82it/s]\u001b[A\n",
      "DDIM Sampler:  10%|██████████▎                                                                                            | 5/50 [00:01<00:15,  2.82it/s]\u001b[A\n",
      "DDIM Sampler:  12%|████████████▎                                                                                          | 6/50 [00:02<00:15,  2.82it/s]\u001b[A\n",
      "DDIM Sampler:  14%|██████████████▍                                                                                        | 7/50 [00:02<00:15,  2.82it/s]\u001b[A\n",
      "DDIM Sampler:  16%|████████████████▍                                                                                      | 8/50 [00:02<00:14,  2.82it/s]\u001b[A\n",
      "DDIM Sampler:  18%|██████████████████▌                                                                                    | 9/50 [00:03<00:14,  2.82it/s]\u001b[A\n",
      "DDIM Sampler:  20%|████████████████████▍                                                                                 | 10/50 [00:03<00:14,  2.82it/s]\u001b[A\n",
      "DDIM Sampler:  22%|██████████████████████▍                                                                               | 11/50 [00:03<00:13,  2.82it/s]\u001b[A\n",
      "DDIM Sampler:  24%|████████████████████████▍                                                                             | 12/50 [00:04<00:13,  2.82it/s]\u001b[A\n",
      "DDIM Sampler:  26%|██████████████████████████▌                                                                           | 13/50 [00:04<00:13,  2.82it/s]\u001b[A\n",
      "DDIM Sampler:  28%|████████████████████████████▌                                                                         | 14/50 [00:04<00:12,  2.82it/s]\u001b[A\n",
      "DDIM Sampler:  30%|██████████████████████████████▌                                                                       | 15/50 [00:05<00:12,  2.82it/s]\u001b[A\n",
      "DDIM Sampler:  32%|████████████████████████████████▋                                                                     | 16/50 [00:05<00:12,  2.82it/s]\u001b[A\n",
      "DDIM Sampler:  34%|██████████████████████████████████▋                                                                   | 17/50 [00:06<00:11,  2.82it/s]\u001b[A\n",
      "DDIM Sampler:  36%|████████████████████████████████████▋                                                                 | 18/50 [00:06<00:11,  2.82it/s]\u001b[A\n",
      "DDIM Sampler:  38%|██████████████████████████████████████▊                                                               | 19/50 [00:06<00:11,  2.82it/s]\u001b[A\n",
      "DDIM Sampler:  40%|████████████████████████████████████████▊                                                             | 20/50 [00:07<00:10,  2.82it/s]\u001b[A\n",
      "DDIM Sampler:  42%|██████████████████████████████████████████▊                                                           | 21/50 [00:07<00:10,  2.82it/s]\u001b[A\n",
      "DDIM Sampler:  44%|████████████████████████████████████████████▉                                                         | 22/50 [00:07<00:09,  2.82it/s]\u001b[A\n",
      "DDIM Sampler:  46%|██████████████████████████████████████████████▉                                                       | 23/50 [00:08<00:09,  2.82it/s]\u001b[A\n",
      "DDIM Sampler:  48%|████████████████████████████████████████████████▉                                                     | 24/50 [00:08<00:09,  2.82it/s]\u001b[A\n",
      "DDIM Sampler:  50%|███████████████████████████████████████████████████                                                   | 25/50 [00:08<00:08,  2.82it/s]\u001b[A\n",
      "DDIM Sampler:  52%|█████████████████████████████████████████████████████                                                 | 26/50 [00:09<00:08,  2.82it/s]\u001b[A\n",
      "DDIM Sampler:  54%|███████████████████████████████████████████████████████                                               | 27/50 [00:09<00:08,  2.82it/s]\u001b[A\n",
      "DDIM Sampler:  56%|█████████████████████████████████████████████████████████                                             | 28/50 [00:09<00:07,  2.82it/s]\u001b[A\n",
      "DDIM Sampler:  58%|███████████████████████████████████████████████████████████▏                                          | 29/50 [00:10<00:07,  2.82it/s]\u001b[A\n",
      "DDIM Sampler:  60%|█████████████████████████████████████████████████████████████▏                                        | 30/50 [00:10<00:07,  2.82it/s]\u001b[A\n",
      "DDIM Sampler:  62%|███████████████████████████████████████████████████████████████▏                                      | 31/50 [00:11<00:06,  2.82it/s]\u001b[A\n",
      "DDIM Sampler:  64%|█████████████████████████████████████████████████████████████████▎                                    | 32/50 [00:11<00:06,  2.82it/s]\u001b[A\n",
      "DDIM Sampler:  66%|███████████████████████████████████████████████████████████████████▎                                  | 33/50 [00:11<00:06,  2.82it/s]\u001b[A\n",
      "DDIM Sampler:  68%|█████████████████████████████████████████████████████████████████████▎                                | 34/50 [00:12<00:05,  2.82it/s]\u001b[A\n",
      "DDIM Sampler:  70%|███████████████████████████████████████████████████████████████████████▍                              | 35/50 [00:12<00:05,  2.82it/s]\u001b[A\n",
      "DDIM Sampler:  72%|█████████████████████████████████████████████████████████████████████████▍                            | 36/50 [00:12<00:04,  2.82it/s]\u001b[A\n",
      "DDIM Sampler:  74%|███████████████████████████████████████████████████████████████████████████▍                          | 37/50 [00:13<00:04,  2.82it/s]\u001b[A\n",
      "DDIM Sampler:  76%|█████████████████████████████████████████████████████████████████████████████▌                        | 38/50 [00:13<00:04,  2.82it/s]\u001b[A\n",
      "DDIM Sampler:  78%|███████████████████████████████████████████████████████████████████████████████▌                      | 39/50 [00:13<00:03,  2.82it/s]\u001b[A\n",
      "DDIM Sampler:  80%|█████████████████████████████████████████████████████████████████████████████████▌                    | 40/50 [00:14<00:03,  2.82it/s]\u001b[A\n",
      "DDIM Sampler:  82%|███████████████████████████████████████████████████████████████████████████████████▋                  | 41/50 [00:14<00:03,  2.82it/s]\u001b[A\n",
      "DDIM Sampler:  84%|█████████████████████████████████████████████████████████████████████████████████████▋                | 42/50 [00:14<00:02,  2.82it/s]\u001b[A\n",
      "DDIM Sampler:  86%|███████████████████████████████████████████████████████████████████████████████████████▋              | 43/50 [00:15<00:02,  2.82it/s]\u001b[A\n",
      "DDIM Sampler:  88%|█████████████████████████████████████████████████████████████████████████████████████████▊            | 44/50 [00:15<00:02,  2.82it/s]\u001b[A\n",
      "DDIM Sampler:  90%|███████████████████████████████████████████████████████████████████████████████████████████▊          | 45/50 [00:15<00:01,  2.82it/s]\u001b[A\n",
      "DDIM Sampler:  92%|█████████████████████████████████████████████████████████████████████████████████████████████▊        | 46/50 [00:16<00:01,  2.82it/s]\u001b[A\n",
      "DDIM Sampler:  94%|███████████████████████████████████████████████████████████████████████████████████████████████▉      | 47/50 [00:16<00:01,  2.82it/s]\u001b[A\n",
      "DDIM Sampler:  96%|█████████████████████████████████████████████████████████████████████████████████████████████████▉    | 48/50 [00:17<00:00,  2.82it/s]\u001b[A\n",
      "DDIM Sampler:  98%|███████████████████████████████████████████████████████████████████████████████████████████████████▉  | 49/50 [00:17<00:00,  2.82it/s]\u001b[A\n",
      "DDIM Sampler: 100%|██████████████████████████████████████████████████████████████████████████████████████████████████████| 50/50 [00:17<00:00,  2.82it/s]\u001b[A\n"
     ]
    }
   ],
   "source": [
    "# Train!\n",
    "trainer.fit(model, dataloader)"
   ]
  },
  {
   "cell_type": "code",
   "execution_count": null,
   "id": "ae0e28f8",
   "metadata": {},
   "outputs": [],
   "source": []
  }
 ],
 "metadata": {
  "kernelspec": {
   "display_name": "control",
   "language": "python",
   "name": "control"
  },
  "language_info": {
   "codemirror_mode": {
    "name": "ipython",
    "version": 3
   },
   "file_extension": ".py",
   "mimetype": "text/x-python",
   "name": "python",
   "nbconvert_exporter": "python",
   "pygments_lexer": "ipython3",
   "version": "3.9.16"
  }
 },
 "nbformat": 4,
 "nbformat_minor": 5
}
