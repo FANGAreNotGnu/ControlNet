{
 "cells": [
  {
   "cell_type": "code",
   "execution_count": 1,
   "id": "f51a3443",
   "metadata": {},
   "outputs": [],
   "source": [
    "#!pip install pycocotools"
   ]
  },
  {
   "cell_type": "code",
   "execution_count": 2,
   "id": "3e6f5f92",
   "metadata": {},
   "outputs": [],
   "source": [
    "import glob\n",
    "import json\n",
    "import os\n",
    "from tqdm import tqdm\n",
    "\n",
    "from pycocotools.coco import COCO  # https://github.com/cocodataset/cocoapi/blob/master/PythonAPI/pycocoDemo.ipynb\n",
    "\n",
    "from utils import imread, imwrite\n",
    "from vis_prior_generator import CannyVPG, HEDVPG, MLSDVPG, MidasVPG, UniformerVPG\n",
    "from vis_prior_layout import UniformRandomNoClipVPL"
   ]
  },
  {
   "cell_type": "code",
   "execution_count": 3,
   "id": "692b35be",
   "metadata": {},
   "outputs": [
    {
     "name": "stdout",
     "output_type": "stream",
     "text": [
      "loading annotations into memory...\n",
      "Done (t=0.01s)\n",
      "creating index...\n",
      "index created!\n"
     ]
    }
   ],
   "source": [
    "source_image_folder = \"/home/ubuntu/dad/roboflow-100-benchmark/rf100/apples-fvpl5/train/\"\n",
    "source_annotation_file = \"/home/ubuntu/dad/roboflow-100-benchmark/rf100/apples-fvpl5/train/_annotations.coco.json\"\n",
    "ext = \"jpg\"\n",
    "im_prior_folder = \"/home/ubuntu/dad/roboflow-100-benchmark/rf100/apples-fvpl5/train_bboxhed/\"\n",
    "annotation_path = \"/home/ubuntu/dad/roboflow-100-benchmark/rf100/apples-fvpl5/train_aug_bboxhed.json\"  # annotation for controlnet\n",
    "if not os.path.exists(im_prior_folder):\n",
    "    os.mkdir(im_prior_folder)\n",
    "\n",
    "coco = COCO(source_annotation_file)\n",
    "naive_vpd = UniformRandomNoClipVPL()\n",
    "vpg = HEDVPG(vpl=naive_vpd, fill_val=0, annotation=None, im_folder=None)"
   ]
  },
  {
   "cell_type": "code",
   "execution_count": 4,
   "id": "ecd2bf93",
   "metadata": {},
   "outputs": [
    {
     "data": {
      "text/plain": [
       "[{'id': 1,\n",
       "  'image_id': 1,\n",
       "  'category_id': 2,\n",
       "  'bbox': [121, 82, 242, 328.5],\n",
       "  'area': 79497,\n",
       "  'segmentation': [],\n",
       "  'iscrowd': 0}]"
      ]
     },
     "execution_count": 4,
     "metadata": {},
     "output_type": "execute_result"
    }
   ],
   "source": [
    "coco.loadAnns(coco.getAnnIds(imgIds=1))"
   ]
  },
  {
   "cell_type": "code",
   "execution_count": 5,
   "id": "a314cfe5",
   "metadata": {},
   "outputs": [
    {
     "name": "stderr",
     "output_type": "stream",
     "text": [
      "100%|██████████████████████████████████████████████████████████████████████████████████████████████████████████████████| 489/489 [00:24<00:00, 19.93it/s]\n"
     ]
    }
   ],
   "source": [
    "img_ids = coco.getImgIds()\n",
    "\n",
    "with open(annotation_path, \"w+\") as f:\n",
    "    for img_id in tqdm(img_ids):\n",
    "        coco_img = coco.loadImgs(img_id)[0]\n",
    "        source_img_name = coco_img['file_name']\n",
    "        \n",
    "        source_img_path = os.path.join(source_image_folder, source_img_name)\n",
    "        im_prior_path = os.path.join(im_prior_folder, source_img_name)\n",
    "        \n",
    "        source_img = imread(source_img_path)\n",
    "        annIds = coco.getAnnIds(imgIds=coco_img['id'])\n",
    "        anns = coco.loadAnns(annIds)\n",
    "        bboxes = [ann['bbox'] for ann in anns]\n",
    "        \n",
    "        im_prior = vpg.detect_one_img(img=source_img,bboxes=bboxes)\n",
    "        imwrite(im_prior_path, im_prior)\n",
    "        \n",
    "        json_row = json.dumps({\"source\":im_prior_path,\"target\":source_img_path,\"prompt\": \"apples\"})\n",
    "        f.write(json_row + '\\n')"
   ]
  },
  {
   "cell_type": "code",
   "execution_count": 6,
   "id": "c1257886",
   "metadata": {},
   "outputs": [],
   "source": [
    "# view on VS Code"
   ]
  },
  {
   "cell_type": "code",
   "execution_count": 7,
   "id": "aeffb23f",
   "metadata": {},
   "outputs": [
    {
     "data": {
      "text/plain": [
       "'/home/ubuntu/dad/roboflow-100-benchmark/rf100/apples-fvpl5/train_aug_bboxhed.json'"
      ]
     },
     "execution_count": 7,
     "metadata": {},
     "output_type": "execute_result"
    }
   ],
   "source": [
    "annotation_path"
   ]
  },
  {
   "cell_type": "code",
   "execution_count": null,
   "id": "3126d82a",
   "metadata": {},
   "outputs": [],
   "source": []
  }
 ],
 "metadata": {
  "kernelspec": {
   "display_name": "control",
   "language": "python",
   "name": "control"
  },
  "language_info": {
   "codemirror_mode": {
    "name": "ipython",
    "version": 3
   },
   "file_extension": ".py",
   "mimetype": "text/x-python",
   "name": "python",
   "nbconvert_exporter": "python",
   "pygments_lexer": "ipython3",
   "version": "3.9.16"
  }
 },
 "nbformat": 4,
 "nbformat_minor": 5
}
