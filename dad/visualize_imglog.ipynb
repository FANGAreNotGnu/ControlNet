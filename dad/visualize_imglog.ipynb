{
 "cells": [
  {
   "cell_type": "code",
   "execution_count": 1,
   "id": "dc4bc1b8",
   "metadata": {},
   "outputs": [],
   "source": [
    "#!pip install parse"
   ]
  },
  {
   "cell_type": "code",
   "execution_count": 2,
   "id": "5e0aa20c",
   "metadata": {},
   "outputs": [],
   "source": [
    "import glob\n",
    "import os\n",
    "import parse"
   ]
  },
  {
   "cell_type": "code",
   "execution_count": 3,
   "id": "fca0d578",
   "metadata": {},
   "outputs": [
    {
     "name": "stdout",
     "output_type": "stream",
     "text": [
      "400\n"
     ]
    }
   ],
   "source": [
    "log_folder = \"/media/data/dad/cnet/experiments/apple_hed_2e-6_0619/image_log/train/\"\n",
    "log_names = [os.path.basename(path) for path in glob.glob(os.path.join(log_folder, \"*\"))]\n",
    "print(len(log_names))"
   ]
  },
  {
   "cell_type": "code",
   "execution_count": 4,
   "id": "a24dc956",
   "metadata": {},
   "outputs": [],
   "source": [
    "log_format = \"{}_gs-{:06}_e-{:06}_b-{:06}.png\"\n",
    "logs = []\n",
    "for log_name in log_names:\n",
    "    logs.append(list(parse.parse(log_format, log_name)) + [log_name])"
   ]
  },
  {
   "cell_type": "code",
   "execution_count": 5,
   "id": "763b5cdb",
   "metadata": {},
   "outputs": [],
   "source": [
    "log_types = list({log[0] for log in logs})\n",
    "log_types = ['control', 'reconstruction', 'samples_cfg_scale_9.00']"
   ]
  },
  {
   "cell_type": "code",
   "execution_count": 6,
   "id": "2d442ef1",
   "metadata": {},
   "outputs": [
    {
     "data": {
      "text/plain": [
       "['000000',\n",
       " '000031',\n",
       " '000062',\n",
       " '000093',\n",
       " '000124',\n",
       " '000155',\n",
       " '000186',\n",
       " '000217',\n",
       " '000248',\n",
       " '000279',\n",
       " '000310',\n",
       " '000341',\n",
       " '000372',\n",
       " '000403',\n",
       " '000434',\n",
       " '000465',\n",
       " '000496',\n",
       " '000527',\n",
       " '000558',\n",
       " '000589',\n",
       " '000620',\n",
       " '000651',\n",
       " '000682',\n",
       " '000713',\n",
       " '000744',\n",
       " '000775',\n",
       " '000806',\n",
       " '000837',\n",
       " '000868',\n",
       " '000899',\n",
       " '000930',\n",
       " '000961',\n",
       " '000992',\n",
       " '001023',\n",
       " '001054',\n",
       " '001085',\n",
       " '001116',\n",
       " '001147',\n",
       " '001178',\n",
       " '001209',\n",
       " '001240',\n",
       " '001271',\n",
       " '001302',\n",
       " '001333',\n",
       " '001364',\n",
       " '001395',\n",
       " '001426',\n",
       " '001457',\n",
       " '001488',\n",
       " '001519',\n",
       " '001550',\n",
       " '001581',\n",
       " '001612',\n",
       " '001643',\n",
       " '001674',\n",
       " '001705',\n",
       " '001736',\n",
       " '001767',\n",
       " '001798',\n",
       " '001829',\n",
       " '001860',\n",
       " '001891',\n",
       " '001922',\n",
       " '001953',\n",
       " '001984',\n",
       " '002015',\n",
       " '002046',\n",
       " '002077',\n",
       " '002108',\n",
       " '002139',\n",
       " '002170',\n",
       " '002201',\n",
       " '002232',\n",
       " '002263',\n",
       " '002294',\n",
       " '002325',\n",
       " '002356',\n",
       " '002387',\n",
       " '002418',\n",
       " '002449',\n",
       " '002480',\n",
       " '002511',\n",
       " '002542',\n",
       " '002573',\n",
       " '002604',\n",
       " '002635',\n",
       " '002666',\n",
       " '002697',\n",
       " '002728',\n",
       " '002759',\n",
       " '002790',\n",
       " '002821',\n",
       " '002852',\n",
       " '002883',\n",
       " '002914',\n",
       " '002945',\n",
       " '002976',\n",
       " '003007',\n",
       " '003038',\n",
       " '003069']"
      ]
     },
     "execution_count": 6,
     "metadata": {},
     "output_type": "execute_result"
    }
   ],
   "source": [
    "log_iters = sorted(list({log[1] for log in logs}))\n",
    "log_iters"
   ]
  },
  {
   "cell_type": "code",
   "execution_count": 7,
   "id": "6fc74466",
   "metadata": {},
   "outputs": [
    {
     "data": {
      "text/plain": [
       "['000000',\n",
       " '000001',\n",
       " '000002',\n",
       " '000003',\n",
       " '000004',\n",
       " '000005',\n",
       " '000006',\n",
       " '000007',\n",
       " '000008',\n",
       " '000009',\n",
       " '000010',\n",
       " '000011',\n",
       " '000012',\n",
       " '000013',\n",
       " '000014',\n",
       " '000015',\n",
       " '000016',\n",
       " '000017',\n",
       " '000018',\n",
       " '000019',\n",
       " '000020',\n",
       " '000021',\n",
       " '000022',\n",
       " '000023',\n",
       " '000024',\n",
       " '000025',\n",
       " '000026',\n",
       " '000027',\n",
       " '000028',\n",
       " '000029',\n",
       " '000030',\n",
       " '000031',\n",
       " '000032',\n",
       " '000033',\n",
       " '000034',\n",
       " '000035',\n",
       " '000036',\n",
       " '000037',\n",
       " '000038',\n",
       " '000039',\n",
       " '000040',\n",
       " '000041',\n",
       " '000042',\n",
       " '000043',\n",
       " '000044',\n",
       " '000045',\n",
       " '000046',\n",
       " '000047',\n",
       " '000048',\n",
       " '000049',\n",
       " '000050',\n",
       " '000051',\n",
       " '000052',\n",
       " '000053',\n",
       " '000054',\n",
       " '000055',\n",
       " '000056',\n",
       " '000057',\n",
       " '000058',\n",
       " '000059',\n",
       " '000060',\n",
       " '000061',\n",
       " '000062',\n",
       " '000063',\n",
       " '000064',\n",
       " '000065',\n",
       " '000066',\n",
       " '000067',\n",
       " '000068',\n",
       " '000069',\n",
       " '000070',\n",
       " '000071',\n",
       " '000072',\n",
       " '000073',\n",
       " '000074',\n",
       " '000075',\n",
       " '000076',\n",
       " '000077',\n",
       " '000078',\n",
       " '000079',\n",
       " '000080',\n",
       " '000081',\n",
       " '000082',\n",
       " '000083',\n",
       " '000084',\n",
       " '000085',\n",
       " '000086',\n",
       " '000087',\n",
       " '000088',\n",
       " '000089',\n",
       " '000090',\n",
       " '000091',\n",
       " '000092',\n",
       " '000093',\n",
       " '000094',\n",
       " '000095',\n",
       " '000096',\n",
       " '000097',\n",
       " '000098',\n",
       " '000099']"
      ]
     },
     "execution_count": 7,
     "metadata": {},
     "output_type": "execute_result"
    }
   ],
   "source": [
    "log_epochs = sorted(list({log[2] for log in logs}))\n",
    "log_epochs"
   ]
  },
  {
   "cell_type": "code",
   "execution_count": 8,
   "id": "26f64200",
   "metadata": {},
   "outputs": [
    {
     "data": {
      "text/plain": [
       "['000000']"
      ]
     },
     "execution_count": 8,
     "metadata": {},
     "output_type": "execute_result"
    }
   ],
   "source": [
    "log_batchs = sorted(list({log[3] for log in logs}))\n",
    "log_batchs"
   ]
  },
  {
   "cell_type": "code",
   "execution_count": 9,
   "id": "9617ab61",
   "metadata": {},
   "outputs": [],
   "source": [
    "log_dict = {tuple(log[:2]):log[-1] for log in logs}  # key: (log_type, log_iter)"
   ]
  },
  {
   "cell_type": "code",
   "execution_count": 10,
   "id": "8d219943",
   "metadata": {},
   "outputs": [
    {
     "name": "stdout",
     "output_type": "stream",
     "text": [
      "['000000', '000124', '000248', '000372', '000496', '000620', '000744', '000868', '000992', '001116', '001240', '001364', '001488', '001612', '001736', '001860', '001984', '002108', '002232', '002356', '002480', '002604', '002728', '002852', '002976']\n"
     ]
    }
   ],
   "source": [
    "#iters_to_display = log_iters[:2]\n",
    "iters_to_display = log_iters[::4]\n",
    "print(iters_to_display)\n",
    "types_to_display = log_types\n",
    "image_names_to_display = [log_dict[(log_type, log_iter)] for log_iter in iters_to_display for log_type in types_to_display]\n",
    "image_files_to_display = [os.path.join(log_folder, name) for name in image_names_to_display]"
   ]
  },
  {
   "cell_type": "code",
   "execution_count": 11,
   "id": "d721d991",
   "metadata": {},
   "outputs": [],
   "source": [
    "import matplotlib.pyplot as plt\n",
    "import numpy as np\n",
    "def plot_figures(images, nrows = 1, ncols=4):\n",
    "\n",
    "    fig = plt.figure()\n",
    "    \n",
    "    image_heigt = 256 # Height of the image\n",
    "    image_width = 256 # Width of the image\n",
    "\n",
    "    pixels = np.zeros((nrows*image_heigt,ncols*image_width, 3), dtype=np.uint8) # Create\n",
    "    curr = 0\n",
    "    for a in range(nrows):\n",
    "        for b in range(ncols):\n",
    "            resized = cv2.resize(images[curr], (image_width, image_heigt)).astype(np.uint8)\n",
    "            pixels[a*image_heigt:a*image_heigt+image_heigt,b*image_heigt:b*image_heigt+image_heigt] = resized\n",
    "            curr += 1\n",
    "    plt.imshow(pixels[:,:,::-1], cmap='gray')\n",
    "    plt.axis('off')\n",
    "    plt.show()\n",
    "    cv2.imwrite(\"visualize_imglog.png\", pixels)"
   ]
  },
  {
   "cell_type": "code",
   "execution_count": 12,
   "id": "04bfc3f4",
   "metadata": {},
   "outputs": [
    {
     "data": {
      "image/png": "[encoded data removed]",
      "text/plain": [
       "<Figure size 640x480 with 1 Axes>"
      ]
     },
     "metadata": {},
     "output_type": "display_data"
    }
   ],
   "source": [
    "import cv2\n",
    "\n",
    "images = [cv2.imread(f) for i, f in enumerate(image_files_to_display)]\n",
    "\n",
    "# plot of the images in a figure, with 2 rows and 3 columns\n",
    "plot_figures(images, len(iters_to_display), len(log_types))"
   ]
  },
  {
   "cell_type": "code",
   "execution_count": null,
   "id": "8de59ce4",
   "metadata": {},
   "outputs": [],
   "source": []
  }
 ],
 "metadata": {
  "kernelspec": {
   "display_name": "control",
   "language": "python",
   "name": "control"
  },
  "language_info": {
   "codemirror_mode": {
    "name": "ipython",
    "version": 3
   },
   "file_extension": ".py",
   "mimetype": "text/x-python",
   "name": "python",
   "nbconvert_exporter": "python",
   "pygments_lexer": "ipython3",
   "version": "3.9.16"
  }
 },
 "nbformat": 4,
 "nbformat_minor": 5
}
