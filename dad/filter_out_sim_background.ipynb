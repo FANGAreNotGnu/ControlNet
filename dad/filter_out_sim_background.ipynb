{
 "cells": [
  {
   "cell_type": "code",
   "execution_count": 1,
   "id": "c50f4f35",
   "metadata": {},
   "outputs": [],
   "source": [
    "import glob\n",
    "import json\n",
    "import numpy as np\n",
    "import os\n",
    "import shutil\n",
    "from tqdm import tqdm\n",
    "from pycocotools.coco import COCO  # https://github.com/cocodataset/cocoapi/blob/master/PythonAPI/pycocoDemo.ipynb"
   ]
  },
  {
   "cell_type": "code",
   "execution_count": 2,
   "id": "8c580a66",
   "metadata": {},
   "outputs": [],
   "source": [
    "prev_percent_kept = 30\n",
    "percent_kept = 30"
   ]
  },
  {
   "cell_type": "code",
   "execution_count": 3,
   "id": "456ecc82",
   "metadata": {},
   "outputs": [],
   "source": [
    "unfiltered_data_folder = \"/media/data/dad/cnet/experiments/coco10novel/mix_n2000_o1_s1_p640_pfa_csl%d\"%prev_percent_kept\n",
    "unfiltered_annotation_path = os.path.join(unfiltered_data_folder, \"annotation.json\")\n",
    "unfiltered_image_folder = os.path.join(unfiltered_data_folder, \"images\")\n",
    "target_folder = unfiltered_data_folder + \"_pfb_csl%d\"%percent_kept\n",
    "\n",
    "if not os.path.exists(target_folder):\n",
    "    os.mkdir(target_folder)\n",
    "\n",
    "target_image_folder = os.path.join(target_folder, \"images\")\n",
    "target_annotation_path = os.path.join(target_folder, \"annotation.json\")\n",
    "\n",
    "if not os.path.exists(target_image_folder):\n",
    "    os.mkdir(target_image_folder)"
   ]
  },
  {
   "cell_type": "code",
   "execution_count": 4,
   "id": "d7888fd1",
   "metadata": {},
   "outputs": [
    {
     "name": "stdout",
     "output_type": "stream",
     "text": [
      "loading annotations into memory...\n",
      "Done (t=0.01s)\n",
      "creating index...\n",
      "index created!\n"
     ]
    }
   ],
   "source": [
    "with open(unfiltered_annotation_path, \"r\") as f:\n",
    "    unfiltered_annotation = json.load(f)"
   ]
  },
  {
   "cell_type": "code",
   "execution_count": 5,
   "id": "e3475b5c",
   "metadata": {},
   "outputs": [
    {
     "name": "stdout",
     "output_type": "stream",
     "text": [
      "dict_keys(['images', 'annotations', 'categories'])\n",
      "{'license': 2, 'file_name': '000000568790.jpg', 'coco_url': 'http://images.cocodataset.org/train2017/000000568790.jpg', 'height': 426, 'width': 640, 'date_captured': '2013-11-21 00:25:07', 'flickr_url': 'http://farm2.staticflickr.com/1082/5110147496_81f18ceee0_z.jpg', 'id': 568790, 'csl_person': 16.453125}\n",
      "{'segmentation': [[290.06, 195.29, 297.72, 190.5, 304.42, 188.59, 315.91, 184.76, 323.57, 184.76, 329.31, 180.93, 336.97, 175.19, 341.76, 172.31, 345.59, 172.31, 349.42, 187.63, 355.16, 200.08, 369.52, 213.48, 378.13, 216.35, 384.84, 218.27, 389.62, 218.27, 399.2, 216.35, 406.85, 200.08, 411.64, 175.19, 411.64, 164.66, 409.73, 153.17, 403.02, 144.55, 392.49, 135.94, 388.67, 134.02, 384.84, 134.02, 381.96, 128.28, 375.26, 118.71, 371.43, 116.79, 362.82, 116.79, 355.16, 120.62, 352.29, 120.62, 341.76, 115.83, 330.27, 115.83, 312.08, 110.09, 300.59, 108.18, 301.55, 115.83, 314.95, 119.66, 329.31, 123.49, 347.5, 133.07, 357.07, 136.89, 361.86, 145.51, 364.73, 153.17, 364.73, 163.7, 363.78, 170.4, 356.12, 167.53, 350.37, 159.87, 346.54, 156.04, 334.1, 156.04, 312.08, 168.49, 297.72, 179.02, 290.06, 174.23, 275.7, 160.83, 272.83, 162.74, 271.87, 165.61, 273.79, 172.31, 281.45, 184.76]], 'area': 6400.563450000001, 'iscrowd': 0, 'image_id': 568790, 'bbox': [271.87, 108.18, 139.77, 110.09], 'category_id': 1, 'id': 466294, 'csl': 0.152587890625, 'csl_a': 0.13623046875, 'csl_p': 0.155029296875}\n",
      "{'supercategory': 'person', 'id': 1, 'name': 'person'}\n",
      "dict_keys(['license', 'file_name', 'coco_url', 'height', 'width', 'date_captured', 'flickr_url', 'id', 'csl_person'])\n",
      "dict_keys(['segmentation', 'area', 'iscrowd', 'image_id', 'bbox', 'category_id', 'id', 'csl', 'csl_a', 'csl_p'])\n",
      "dict_keys(['supercategory', 'id', 'name'])\n",
      "724\n",
      "807\n",
      "20\n"
     ]
    }
   ],
   "source": [
    "print(unfiltered_annotation.keys())\n",
    "print(unfiltered_annotation[\"images\"][0])\n",
    "print(unfiltered_annotation[\"annotations\"][0])\n",
    "print(unfiltered_annotation[\"categories\"][0])\n",
    "print(unfiltered_annotation[\"images\"][0].keys())\n",
    "print(unfiltered_annotation[\"annotations\"][0].keys())\n",
    "print(unfiltered_annotation[\"categories\"][0].keys())\n",
    "print(len(unfiltered_annotation[\"images\"]))\n",
    "print(len(unfiltered_annotation[\"annotations\"]))\n",
    "print(len(unfiltered_annotation[\"categories\"]))"
   ]
  },
  {
   "cell_type": "code",
   "execution_count": 6,
   "id": "7d217779",
   "metadata": {},
   "outputs": [
    {
     "name": "stdout",
     "output_type": "stream",
     "text": [
      "['person', 'bicycle', 'car', 'motorcycle', 'airplane', 'bus', 'train', 'boat', 'bird', 'cat', 'dog', 'horse', 'sheep', 'cow', 'bottle', 'chair', 'couch', 'potted plant', 'dining table', 'tv']\n",
      "20\n",
      "{'person': 16.353125, 'dog': 17.303124999999998, 'sheep': 16.434375, 'motorcycle': 15.5046875, 'couch': 17.6125, 'bicycle': 15.496875, 'train': 20.56875, 'cat': 17.109375, 'car': 17.796875, 'chair': 18.1546875, 'horse': 15.8765625, 'cow': 15.4703125, 'airplane': 17.65625, 'bus': 16.3625, 'potted plant': 21.575, 'boat': 17.871875, 'bird': 17.759375, 'dining table': 17.796875, 'bottle': 17.38125, 'tv': 20.1640625}\n"
     ]
    }
   ],
   "source": [
    "from collections import defaultdict\n",
    "\n",
    "cat_names = [cat['name'] for cat in unfiltered_annotation[\"categories\"]]\n",
    "print(cat_names)\n",
    "\n",
    "clip_scores = defaultdict(list)\n",
    "for img_obj in unfiltered_annotation[\"images\"]:\n",
    "    for k in img_obj.keys():\n",
    "        if k[:3] == \"csl\":  # csl_<cat_name>\n",
    "            cat_name = k[4:]\n",
    "            clip_scores[cat_name].append(img_obj[k])\n",
    "\n",
    "csl_thres = {category_name:np.percentile(scores, percent_kept) for category_name, scores in clip_scores.items()}\n",
    "print(len(clip_scores))\n",
    "print(csl_thres)"
   ]
  },
  {
   "cell_type": "code",
   "execution_count": 7,
   "id": "e8267a24",
   "metadata": {},
   "outputs": [],
   "source": [
    "old_images = unfiltered_annotation[\"images\"]\n",
    "old_annos = unfiltered_annotation[\"annotations\"]\n",
    "new_annos = []\n",
    "new_images = []\n",
    "\n",
    "valid_image_ids = []\n",
    "for img_obj in old_images:\n",
    "    is_valid_image = True\n",
    "    for k in img_obj.keys():\n",
    "        if k[:3] == \"csl\":  # csl_<cat_name>\n",
    "            cat_name = k[4:]\n",
    "            if img_obj[k] > csl_thres[cat_name]:  # background to similar to <cat_name>\n",
    "                is_valid_image = False\n",
    "    if 'coco_url' in img_obj.keys():  # keep GT images\n",
    "        is_valid_image = True\n",
    "    if is_valid_image:\n",
    "        new_images.append(img_obj)\n",
    "        valid_image_ids.append(img_obj['id'])\n",
    "        \n",
    "valid_ann_ids = coco.getAnnIds(imgIds=valid_image_ids)\n",
    "for anno in old_annos:\n",
    "    if anno['id'] in valid_ann_ids:\n",
    "        new_annos.append(anno)\n",
    "\n",
    "unfiltered_annotation[\"images\"] = new_images\n",
    "unfiltered_annotation[\"annotations\"] = new_annos"
   ]
  },
  {
   "cell_type": "code",
   "execution_count": 8,
   "id": "aea1676f",
   "metadata": {},
   "outputs": [
    {
     "name": "stdout",
     "output_type": "stream",
     "text": [
      "248\n",
      "331\n",
      "724\n",
      "807\n"
     ]
    }
   ],
   "source": [
    "print(len(new_images))\n",
    "print(len(new_annos))\n",
    "print(len(old_images))\n",
    "print(len(old_annos))"
   ]
  },
  {
   "cell_type": "code",
   "execution_count": 9,
   "id": "8b9dfee1",
   "metadata": {},
   "outputs": [],
   "source": [
    "with open(target_annotation_path, \"w+\") as f:\n",
    "    json.dump(unfiltered_annotation, f)"
   ]
  },
  {
   "cell_type": "code",
   "execution_count": 10,
   "id": "cddbb673",
   "metadata": {},
   "outputs": [],
   "source": [
    "img_names = [img['file_name'] for img in unfiltered_annotation[\"images\"]]\n",
    "for img_name in img_names:\n",
    "    shutil.copy(os.path.join(unfiltered_image_folder, img_name), os.path.join(target_image_folder, img_name))"
   ]
  }
 ],
 "metadata": {
  "kernelspec": {
   "display_name": "control",
   "language": "python",
   "name": "control"
  },
  "language_info": {
   "codemirror_mode": {
    "name": "ipython",
    "version": 3
   },
   "file_extension": ".py",
   "mimetype": "text/x-python",
   "name": "python",
   "nbconvert_exporter": "python",
   "pygments_lexer": "ipython3",
   "version": "3.9.16"
  }
 },
 "nbformat": 4,
 "nbformat_minor": 5
}
