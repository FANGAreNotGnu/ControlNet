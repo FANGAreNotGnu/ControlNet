{
 "cells": [
  {
   "cell_type": "code",
   "execution_count": 1,
   "id": "69817dfe",
   "metadata": {},
   "outputs": [],
   "source": [
    "import json\n",
    "from pycocotools.coco import COCO  # https://github.com/cocodataset/cocoapi/blob/master/PythonAPI/pycocoDemo.ipynb"
   ]
  },
  {
   "cell_type": "code",
   "execution_count": 2,
   "id": "f16e0657",
   "metadata": {},
   "outputs": [],
   "source": [
    "source_annotation_path = \"/media/data/coco17/coco/seed1/10shot_novel.json\""
   ]
  },
  {
   "cell_type": "code",
   "execution_count": 4,
   "id": "baf6d288",
   "metadata": {},
   "outputs": [
    {
     "name": "stdout",
     "output_type": "stream",
     "text": [
      "loading annotations into memory...\n",
      "Done (t=0.00s)\n",
      "creating index...\n",
      "index created!\n"
     ]
    }
   ],
   "source": [
    "with open(source_annotation_path, \"r\") as f:\n",
    "    source_annotation = json.load(f)\n",
    "coco = COCO(source_annotation_path)"
   ]
  },
  {
   "cell_type": "code",
   "execution_count": 9,
   "id": "3b39b264",
   "metadata": {},
   "outputs": [
    {
     "name": "stdout",
     "output_type": "stream",
     "text": [
      "dict_keys(['images', 'annotations', 'categories'])\n",
      "{'license': 2, 'file_name': '000000568790.jpg', 'coco_url': 'http://images.cocodataset.org/train2017/000000568790.jpg', 'height': 426, 'width': 640, 'date_captured': '2013-11-21 00:25:07', 'flickr_url': 'http://farm2.staticflickr.com/1082/5110147496_81f18ceee0_z.jpg', 'id': 568790}\n",
      "{'segmentation': [[290.06, 195.29, 297.72, 190.5, 304.42, 188.59, 315.91, 184.76, 323.57, 184.76, 329.31, 180.93, 336.97, 175.19, 341.76, 172.31, 345.59, 172.31, 349.42, 187.63, 355.16, 200.08, 369.52, 213.48, 378.13, 216.35, 384.84, 218.27, 389.62, 218.27, 399.2, 216.35, 406.85, 200.08, 411.64, 175.19, 411.64, 164.66, 409.73, 153.17, 403.02, 144.55, 392.49, 135.94, 388.67, 134.02, 384.84, 134.02, 381.96, 128.28, 375.26, 118.71, 371.43, 116.79, 362.82, 116.79, 355.16, 120.62, 352.29, 120.62, 341.76, 115.83, 330.27, 115.83, 312.08, 110.09, 300.59, 108.18, 301.55, 115.83, 314.95, 119.66, 329.31, 123.49, 347.5, 133.07, 357.07, 136.89, 361.86, 145.51, 364.73, 153.17, 364.73, 163.7, 363.78, 170.4, 356.12, 167.53, 350.37, 159.87, 346.54, 156.04, 334.1, 156.04, 312.08, 168.49, 297.72, 179.02, 290.06, 174.23, 275.7, 160.83, 272.83, 162.74, 271.87, 165.61, 273.79, 172.31, 281.45, 184.76]], 'area': 6400.563450000001, 'iscrowd': 0, 'image_id': 568790, 'bbox': [271.87, 108.18, 139.77, 110.09], 'category_id': 1, 'id': 466294}\n",
      "{'supercategory': 'person', 'id': 1, 'name': 'person'}\n",
      "dict_keys(['license', 'file_name', 'coco_url', 'height', 'width', 'date_captured', 'flickr_url', 'id'])\n",
      "dict_keys(['segmentation', 'area', 'iscrowd', 'image_id', 'bbox', 'category_id', 'id'])\n",
      "dict_keys(['supercategory', 'id', 'name'])\n"
     ]
    }
   ],
   "source": [
    "print(source_annotation.keys())\n",
    "print(source_annotation[\"images\"][0])\n",
    "print(source_annotation[\"annotations\"][0])\n",
    "print(source_annotation[\"categories\"][0])\n",
    "print(source_annotation[\"images\"][0].keys())\n",
    "print(source_annotation[\"annotations\"][0].keys())\n",
    "print(source_annotation[\"categories\"][0].keys())"
   ]
  },
  {
   "cell_type": "code",
   "execution_count": 10,
   "id": "b8ec45cf",
   "metadata": {},
   "outputs": [
    {
     "name": "stdout",
     "output_type": "stream",
     "text": [
      "117\n",
      "200\n",
      "570015\n",
      "2223021\n",
      "[1, 18, 41]\n"
     ]
    }
   ],
   "source": [
    "print(len(coco.getImgIds()))\n",
    "print(len(coco.getAnnIds()))\n",
    "print(max(coco.getImgIds()))\n",
    "print(max(coco.getAnnIds()))\n",
    "print(coco.getCatIds(catNms=['person','dog','skateboard']))"
   ]
  },
  {
   "cell_type": "code",
   "execution_count": null,
   "id": "88f0829d",
   "metadata": {},
   "outputs": [],
   "source": []
  }
 ],
 "metadata": {
  "kernelspec": {
   "display_name": "control",
   "language": "python",
   "name": "control"
  },
  "language_info": {
   "codemirror_mode": {
    "name": "ipython",
    "version": 3
   },
   "file_extension": ".py",
   "mimetype": "text/x-python",
   "name": "python",
   "nbconvert_exporter": "python",
   "pygments_lexer": "ipython3",
   "version": "3.9.16"
  }
 },
 "nbformat": 4,
 "nbformat_minor": 5
}
