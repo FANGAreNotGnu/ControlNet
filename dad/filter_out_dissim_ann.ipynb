{
 "cells": [
  {
   "cell_type": "code",
   "execution_count": 1,
   "id": "3a552c4b",
   "metadata": {},
   "outputs": [],
   "source": [
    "import glob\n",
    "import json\n",
    "import numpy as np\n",
    "import os\n",
    "import shutil\n",
    "from tqdm import tqdm\n",
    "#from pycocotools.coco import COCO  # https://github.com/cocodataset/cocoapi/blob/master/PythonAPI/pycocoDemo.ipynb"
   ]
  },
  {
   "cell_type": "code",
   "execution_count": 2,
   "id": "e98436ae",
   "metadata": {},
   "outputs": [],
   "source": [
    "percent_kept = 30"
   ]
  },
  {
   "cell_type": "code",
   "execution_count": 3,
   "id": "73333bdb",
   "metadata": {},
   "outputs": [],
   "source": [
    "unfiltered_data_folder = \"/media/data/dad/cnet/experiments/coco10novel/mix_n2000_o1_s1_p640\"\n",
    "unfiltered_annotation_path = os.path.join(unfiltered_data_folder, \"annotation.json\")\n",
    "unfiltered_image_folder = os.path.join(unfiltered_data_folder, \"images\")\n",
    "target_folder = unfiltered_data_folder + \"_pfa_csl%d\"%percent_kept\n",
    "\n",
    "if not os.path.exists(target_folder):\n",
    "    os.mkdir(target_folder)\n",
    "\n",
    "target_image_folder = os.path.join(target_folder, \"images\")\n",
    "target_annotation_path = os.path.join(target_folder, \"annotation.json\")\n",
    "\n",
    "if not os.path.exists(target_image_folder):\n",
    "    os.mkdir(target_image_folder)"
   ]
  },
  {
   "cell_type": "code",
   "execution_count": 4,
   "id": "dcd15c02",
   "metadata": {},
   "outputs": [],
   "source": [
    "with open(unfiltered_annotation_path, \"r\") as f:\n",
    "    unfiltered_annotation = json.load(f)\n",
    "#coco = COCO(unfiltered_annotation_path)"
   ]
  },
  {
   "cell_type": "code",
   "execution_count": 5,
   "id": "f9e07187",
   "metadata": {},
   "outputs": [
    {
     "name": "stdout",
     "output_type": "stream",
     "text": [
      "dict_keys(['images', 'annotations', 'categories'])\n",
      "{'license': 2, 'file_name': '000000568790.jpg', 'coco_url': 'http://images.cocodataset.org/train2017/000000568790.jpg', 'height': 426, 'width': 640, 'date_captured': '2013-11-21 00:25:07', 'flickr_url': 'http://farm2.staticflickr.com/1082/5110147496_81f18ceee0_z.jpg', 'id': 568790}\n",
      "{'segmentation': [[290.06, 195.29, 297.72, 190.5, 304.42, 188.59, 315.91, 184.76, 323.57, 184.76, 329.31, 180.93, 336.97, 175.19, 341.76, 172.31, 345.59, 172.31, 349.42, 187.63, 355.16, 200.08, 369.52, 213.48, 378.13, 216.35, 384.84, 218.27, 389.62, 218.27, 399.2, 216.35, 406.85, 200.08, 411.64, 175.19, 411.64, 164.66, 409.73, 153.17, 403.02, 144.55, 392.49, 135.94, 388.67, 134.02, 384.84, 134.02, 381.96, 128.28, 375.26, 118.71, 371.43, 116.79, 362.82, 116.79, 355.16, 120.62, 352.29, 120.62, 341.76, 115.83, 330.27, 115.83, 312.08, 110.09, 300.59, 108.18, 301.55, 115.83, 314.95, 119.66, 329.31, 123.49, 347.5, 133.07, 357.07, 136.89, 361.86, 145.51, 364.73, 153.17, 364.73, 163.7, 363.78, 170.4, 356.12, 167.53, 350.37, 159.87, 346.54, 156.04, 334.1, 156.04, 312.08, 168.49, 297.72, 179.02, 290.06, 174.23, 275.7, 160.83, 272.83, 162.74, 271.87, 165.61, 273.79, 172.31, 281.45, 184.76]], 'area': 6400.563450000001, 'iscrowd': 0, 'image_id': 568790, 'bbox': [271.87, 108.18, 139.77, 110.09], 'category_id': 1, 'id': 466294, 'csl': 0.152587890625, 'csl_a': 0.13623046875, 'csl_p': 0.1551513671875}\n",
      "{'supercategory': 'person', 'id': 1, 'name': 'person'}\n",
      "dict_keys(['license', 'file_name', 'coco_url', 'height', 'width', 'date_captured', 'flickr_url', 'id'])\n",
      "dict_keys(['segmentation', 'area', 'iscrowd', 'image_id', 'bbox', 'category_id', 'id', 'csl', 'csl_a', 'csl_p'])\n",
      "dict_keys(['supercategory', 'id', 'name'])\n",
      "2117\n",
      "2200\n",
      "20\n"
     ]
    }
   ],
   "source": [
    "print(unfiltered_annotation.keys())\n",
    "print(unfiltered_annotation[\"images\"][0])\n",
    "print(unfiltered_annotation[\"annotations\"][0])\n",
    "print(unfiltered_annotation[\"categories\"][0])\n",
    "print(unfiltered_annotation[\"images\"][0].keys())\n",
    "print(unfiltered_annotation[\"annotations\"][0].keys())\n",
    "print(unfiltered_annotation[\"categories\"][0].keys())\n",
    "print(len(unfiltered_annotation[\"images\"]))\n",
    "print(len(unfiltered_annotation[\"annotations\"]))\n",
    "print(len(unfiltered_annotation[\"categories\"]))"
   ]
  },
  {
   "cell_type": "code",
   "execution_count": 6,
   "id": "a37c4c4c",
   "metadata": {},
   "outputs": [
    {
     "name": "stdout",
     "output_type": "stream",
     "text": [
      "[1, 2, 3, 4, 5, 6, 7, 9, 16, 17, 18, 19, 20, 21, 44, 62, 63, 64, 67, 72]\n",
      "20\n",
      "{1: 0.1980224609375, 18: 0.21834716796875, 20: 0.256201171875, 4: 0.2329345703125, 63: 0.2563720703125, 2: 0.24083251953125, 7: 0.240185546875, 17: 0.22265625, 3: 0.248876953125, 62: 0.24163818359375, 19: 0.2344970703125, 21: 0.26953125, 5: 0.19545898437499998, 6: 0.2467529296875, 64: 0.231689453125, 9: 0.2382568359375, 16: 0.22332763671875, 67: 0.183203125, 44: 0.21892089843749998, 72: 0.242236328125}\n"
     ]
    }
   ],
   "source": [
    "from collections import defaultdict\n",
    "\n",
    "cat_ids = [cat['id'] for cat in unfiltered_annotation[\"categories\"]]\n",
    "print(cat_ids)\n",
    "\n",
    "clip_scores = defaultdict(list)\n",
    "for ann in unfiltered_annotation[\"annotations\"]:\n",
    "    clip_scores[ann['category_id']].append(ann[\"csl\"])\n",
    "\n",
    "csl_thres = {category_id:np.percentile(scores, 100 - percent_kept) for category_id, scores in clip_scores.items()}\n",
    "print(len(clip_scores))\n",
    "print(csl_thres)"
   ]
  },
  {
   "cell_type": "code",
   "execution_count": 7,
   "id": "20f99192",
   "metadata": {},
   "outputs": [
    {
     "data": {
      "text/plain": [
       "1.8"
      ]
     },
     "execution_count": 7,
     "metadata": {},
     "output_type": "execute_result"
    }
   ],
   "source": [
    "np.percentile(range(10), 20)"
   ]
  },
  {
   "cell_type": "code",
   "execution_count": 8,
   "id": "50cd571a",
   "metadata": {},
   "outputs": [],
   "source": [
    "old_images = unfiltered_annotation[\"images\"]\n",
    "old_annos = unfiltered_annotation[\"annotations\"]\n",
    "new_annos = []\n",
    "new_images = []\n",
    "\n",
    "valid_image_id = set()\n",
    "for anno in old_annos:\n",
    "    if \"segmentation\" in anno or anno[\"csl\"] > csl_thres[anno[\"category_id\"]]:  # if segmentation in ann it's gt TODO: add sync flag\n",
    "        new_annos.append(anno)\n",
    "        valid_image_id.add(anno[\"image_id\"])\n",
    "for image in old_images:\n",
    "    if image[\"id\"] in valid_image_id:\n",
    "        new_images.append(image)\n",
    "\n",
    "unfiltered_annotation[\"images\"] = new_images\n",
    "unfiltered_annotation[\"annotations\"] = new_annos"
   ]
  },
  {
   "cell_type": "code",
   "execution_count": 9,
   "id": "28f3cb7d",
   "metadata": {},
   "outputs": [],
   "source": [
    "with open(target_annotation_path, \"w+\") as f:\n",
    "    json.dump(unfiltered_annotation, f)"
   ]
  },
  {
   "cell_type": "code",
   "execution_count": 10,
   "id": "027b6408",
   "metadata": {},
   "outputs": [],
   "source": [
    "img_names = [img['file_name'] for img in unfiltered_annotation[\"images\"]]\n",
    "for img_name in img_names:\n",
    "    shutil.copy(os.path.join(unfiltered_image_folder, img_name), os.path.join(target_image_folder, img_name))"
   ]
  },
  {
   "cell_type": "code",
   "execution_count": 11,
   "id": "ba89b07d",
   "metadata": {},
   "outputs": [
    {
     "name": "stdout",
     "output_type": "stream",
     "text": [
      "729\n",
      "812\n",
      "2117\n",
      "2200\n"
     ]
    }
   ],
   "source": [
    "print(len(new_images))\n",
    "print(len(new_annos))\n",
    "print(len(old_images))\n",
    "print(len(old_annos))"
   ]
  },
  {
   "cell_type": "code",
   "execution_count": null,
   "id": "5fa60e96",
   "metadata": {},
   "outputs": [],
   "source": []
  }
 ],
 "metadata": {
  "kernelspec": {
   "display_name": "control",
   "language": "python",
   "name": "control"
  },
  "language_info": {
   "codemirror_mode": {
    "name": "ipython",
    "version": 3
   },
   "file_extension": ".py",
   "mimetype": "text/x-python",
   "name": "python",
   "nbconvert_exporter": "python",
   "pygments_lexer": "ipython3",
   "version": "3.9.16"
  }
 },
 "nbformat": 4,
 "nbformat_minor": 5
}
